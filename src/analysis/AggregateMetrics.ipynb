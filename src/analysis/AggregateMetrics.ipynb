{
 "cells": [
  {
   "cell_type": "code",
   "execution_count": null,
   "id": "5f91ef9a-7a90-4e3c-9ccb-884e5107495b",
   "metadata": {},
   "outputs": [],
   "source": [
    "import pandas as pd\n",
    "import numpy as np\n",
    "import os\n",
    "\n",
    "from collections import Counter\n",
    "import seaborn as sns\n",
    "import matplotlib.pyplot as plt"
   ]
  },
  {
   "cell_type": "code",
   "execution_count": null,
   "id": "8b969788-6353-4f86-86eb-5273aa3d9872",
   "metadata": {},
   "outputs": [],
   "source": [
    "os.chdir('/shared/0/projects/research-jam-summer-2024/')"
   ]
  },
  {
   "cell_type": "code",
   "execution_count": null,
   "id": "ee0add05-38d0-47cc-9306-6921da76b2ff",
   "metadata": {},
   "outputs": [],
   "source": [
    "base_dir = 'data/english_only/prompting_results_clean/with_metrics/'"
   ]
  },
  {
   "cell_type": "code",
   "execution_count": null,
   "id": "96429a01-468b-48b7-ae86-0eea043c5776",
   "metadata": {},
   "outputs": [],
   "source": [
    "os.listdir(base_dir)"
   ]
  },
  {
   "cell_type": "code",
   "execution_count": null,
   "id": "a8ede8c2-ab3f-4ece-97cc-8e4b9b73f8da",
   "metadata": {},
   "outputs": [],
   "source": [
    "metrics = pd.read_json(base_dir+'llama_3.1-70B_100_sample.jsonl', orient='records', lines=True)\n",
    "metrics = pd.read_json(base_dir+'mixtral_100_sample.jsonl', orient='records', lines=True)\n"
   ]
  },
  {
   "cell_type": "code",
   "execution_count": null,
   "id": "8601820e-4962-4830-8cf8-248daa47d03a",
   "metadata": {},
   "outputs": [],
   "source": [
    "metrics['metric_perplexity'] = 1/metrics['llm_perplexity'] - 1/metrics['human_perplexity']"
   ]
  },
  {
   "cell_type": "code",
   "execution_count": null,
   "id": "8215594a-77d6-4fbe-b938-6aef1f0a38ca",
   "metadata": {},
   "outputs": [],
   "source": [
    "Counter(metrics.human_turn_1.isna())"
   ]
  },
  {
   "cell_type": "code",
   "execution_count": null,
   "id": "ef4c3098-025b-477a-a214-c0d5661542bc",
   "metadata": {},
   "outputs": [],
   "source": [
    "metrics = metrics[~metrics.human_turn_1.isna()]"
   ]
  },
  {
   "cell_type": "code",
   "execution_count": null,
   "id": "f89f56cb-755c-4445-b9da-74f9771519bb",
   "metadata": {},
   "outputs": [],
   "source": [
    "[c for c in metrics.columns if c.startswith('metric')]"
   ]
  },
  {
   "cell_type": "code",
   "execution_count": null,
   "id": "a40b7906",
   "metadata": {},
   "outputs": [],
   "source": []
  },
  {
   "cell_type": "code",
   "execution_count": null,
   "id": "71b277b6-e1f8-47f6-b5ec-934f1942e806",
   "metadata": {},
   "outputs": [],
   "source": [
    "'metric_end'\n",
    "\n",
    "lexical = ['metric_log_word_count',\n",
    "           'metric_word_length',\n",
    "           'metric_capitalization',\n",
    "           'metric_contract_count',\n",
    "           'metric_typo',\n",
    "          ]\n",
    "\n",
    "syntactic = ['metric_grammar',\n",
    "            'metric_punctuation',\n",
    "            'metric_pos',\n",
    "            ]\n",
    "\n",
    "semantic = ['metric_sbert',\n",
    "            'metric_rouge',\n",
    "            #'metric_bleu',\n",
    "            'metric_liwc',\n",
    "            'metric_topic',\n",
    "           ]\n",
    "\n",
    "style = ['metric_sentiment',\n",
    "         'metric_perplexity',\n",
    "         'metric_politeness',\n",
    "         'metric_formality',\n",
    "         'metric_toxicity',\n",
    "         'metric_readability',\n",
    "        ]\n"
   ]
  },
  {
   "cell_type": "code",
   "execution_count": null,
   "id": "1bdcd15c",
   "metadata": {},
   "outputs": [],
   "source": []
  },
  {
   "cell_type": "code",
   "execution_count": null,
   "id": "3afda1bf-8428-47aa-8506-5ad71664915f",
   "metadata": {},
   "outputs": [],
   "source": [
    "def normalize(x, method = 'minmax', center = True, pos_scale = False):\n",
    "    x_norm = x\n",
    "    \n",
    "    # if remove_outlier == 'IQR':\n",
    "    #     q1 = np.percentile(x_norm, 25)\n",
    "    #     q3 = np.percentile(x_norm, 75)\n",
    "    #     iqr = q3 - q1\n",
    "    #     lower = q1 - 1.5*iqr\n",
    "    #     upper = q3 + 1.5*iqr\n",
    "    #     x_norm[x_norm < lower] = lower\n",
    "    #     x_norm[x_norm > upper] = upper\n",
    "    \n",
    "    if method == 'zscore':\n",
    "        if center: x_norm = x_norm - np.mean(x_norm)\n",
    "        x_norm = x_norm / np.std(x_norm)\n",
    "        \n",
    "    if method == 'minmax':\n",
    "        min_val = min(x_norm)\n",
    "        max_val = max(x_norm)\n",
    "        if pos_scale: x_norm = (x_norm - min_val)/(max_val - min_val)\n",
    "        else: x_norm = 2*(x_norm - min_val)/(max_val - min_val) - 1\n",
    "        \n",
    "    return x_norm"
   ]
  },
  {
   "cell_type": "code",
   "execution_count": null,
   "id": "b0f93da3",
   "metadata": {},
   "outputs": [],
   "source": []
  },
  {
   "cell_type": "code",
   "execution_count": null,
   "id": "f8a01a78",
   "metadata": {},
   "outputs": [],
   "source": [
    "needs_normalization = ['metric_log_word_count', 'metric_word_length']\n",
    "for c in needs_normalization:\n",
    "    sns.histplot(metrics[c])\n",
    "    plt.show()\n",
    "    metrics[c] = normalize(metrics[c])\n",
    "    sns.histplot(metrics[c])\n",
    "    plt.show()\n"
   ]
  },
  {
   "cell_type": "code",
   "execution_count": null,
   "id": "7f49ca99",
   "metadata": {},
   "outputs": [],
   "source": []
  },
  {
   "cell_type": "code",
   "execution_count": null,
   "id": "8cfc7f2d",
   "metadata": {},
   "outputs": [],
   "source": [
    "'metric_end'\n",
    "\n",
    "lexical = ['metric_log_word_count',\n",
    "           'metric_word_length',\n",
    "           'metric_capitalization',\n",
    "           'metric_contract_count',\n",
    "           'metric_typo',\n",
    "          ]\n",
    "\n",
    "syntactic = ['metric_grammar',\n",
    "            'metric_punctuation',\n",
    "            'metric_pos',\n",
    "            ]\n",
    "\n",
    "semantic = ['metric_sbert',\n",
    "            'metric_rouge',\n",
    "            #'metric_bleu',\n",
    "            'metric_liwc',\n",
    "            'metric_topic',\n",
    "           ]\n",
    "\n",
    "style = ['metric_sentiment',\n",
    "         'metric_perplexity',\n",
    "         'metric_politeness',\n",
    "         'metric_formality',\n",
    "         'metric_toxicity',\n",
    "         'metric_readability',\n",
    "        ]\n"
   ]
  },
  {
   "cell_type": "code",
   "execution_count": null,
   "id": "ad6d67c8",
   "metadata": {},
   "outputs": [],
   "source": [
    "metrics[lexical]"
   ]
  },
  {
   "cell_type": "code",
   "execution_count": null,
   "id": "08329586",
   "metadata": {
    "scrolled": false
   },
   "outputs": [],
   "source": [
    "for c in lexical:\n",
    "    sns.histplot(metrics[c])\n",
    "    plt.show()\n",
    "\n",
    "metrics['agg_lexical'] = metrics[lexical].apply(lambda x: x.mean(), axis=1)\n",
    "sns.histplot(metrics['agg_lexical'])"
   ]
  },
  {
   "cell_type": "code",
   "execution_count": null,
   "id": "652c7943",
   "metadata": {},
   "outputs": [],
   "source": [
    "metrics[syntactic]"
   ]
  },
  {
   "cell_type": "code",
   "execution_count": null,
   "id": "5a73db0c",
   "metadata": {
    "scrolled": false
   },
   "outputs": [],
   "source": [
    "for c in syntactic:\n",
    "    sns.histplot(metrics[c])\n",
    "    plt.show()\n",
    "\n",
    "metrics['agg_syntactic'] = metrics[syntactic].apply(lambda x: x.mean(), axis=1)\n",
    "sns.histplot(metrics['agg_syntactic'])"
   ]
  },
  {
   "cell_type": "code",
   "execution_count": null,
   "id": "2861e09b",
   "metadata": {},
   "outputs": [],
   "source": [
    "metrics[semantic]"
   ]
  },
  {
   "cell_type": "code",
   "execution_count": null,
   "id": "cb50ac66-b7c2-4e6d-a806-38807f1fff52",
   "metadata": {
    "scrolled": false
   },
   "outputs": [],
   "source": [
    "for c in semantic:\n",
    "    sns.histplot(metrics[c])\n",
    "    plt.show()\n",
    "\n",
    "metrics['agg_semantic'] = metrics[semantic].apply(lambda x: x.mean(), axis=1)\n",
    "sns.histplot(metrics['agg_semantic'])"
   ]
  },
  {
   "cell_type": "code",
   "execution_count": null,
   "id": "e53a981a-a34d-4b10-b51b-88f815284e94",
   "metadata": {},
   "outputs": [],
   "source": [
    "metrics[style]"
   ]
  },
  {
   "cell_type": "code",
   "execution_count": null,
   "id": "3592a47c",
   "metadata": {
    "scrolled": false
   },
   "outputs": [],
   "source": [
    "for c in style:\n",
    "    sns.histplot(metrics[c])\n",
    "    plt.show()\n",
    "\n",
    "metrics['agg_style'] = metrics[style].apply(lambda x: x.mean(), axis=1)\n",
    "sns.histplot(metrics['agg_style'])"
   ]
  },
  {
   "cell_type": "code",
   "execution_count": null,
   "id": "fdbc8de9",
   "metadata": {},
   "outputs": [],
   "source": []
  },
  {
   "cell_type": "code",
   "execution_count": null,
   "id": "3b9ae431",
   "metadata": {},
   "outputs": [],
   "source": []
  },
  {
   "cell_type": "code",
   "execution_count": null,
   "id": "e19be3b1",
   "metadata": {},
   "outputs": [],
   "source": []
  },
  {
   "cell_type": "code",
   "execution_count": null,
   "id": "1ad5ff09-5dd5-4358-bc30-c2fe6274d3a5",
   "metadata": {
    "scrolled": false
   },
   "outputs": [],
   "source": []
  },
  {
   "cell_type": "code",
   "execution_count": null,
   "id": "c976e96e-924f-4889-bf28-39e8e0369457",
   "metadata": {},
   "outputs": [],
   "source": []
  },
  {
   "cell_type": "code",
   "execution_count": null,
   "id": "661c62dc-ff87-4b0e-b0bb-401a8fb3cbc9",
   "metadata": {},
   "outputs": [],
   "source": []
  },
  {
   "cell_type": "code",
   "execution_count": null,
   "id": "bc919461-9365-4ad1-b144-68d39f832d84",
   "metadata": {},
   "outputs": [],
   "source": []
  },
  {
   "cell_type": "code",
   "execution_count": null,
   "id": "7fe3a6ee-3b05-4715-8409-91ab323a0518",
   "metadata": {},
   "outputs": [],
   "source": []
  }
 ],
 "metadata": {
  "kernelspec": {
   "display_name": "Python 3 (ipykernel)",
   "language": "python",
   "name": "python3"
  },
  "language_info": {
   "codemirror_mode": {
    "name": "ipython",
    "version": 3
   },
   "file_extension": ".py",
   "mimetype": "text/x-python",
   "name": "python",
   "nbconvert_exporter": "python",
   "pygments_lexer": "ipython3",
   "version": "3.11.5"
  }
 },
 "nbformat": 4,
 "nbformat_minor": 5
}
