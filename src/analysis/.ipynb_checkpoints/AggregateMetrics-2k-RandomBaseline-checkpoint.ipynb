{
 "cells": [
  {
   "cell_type": "code",
   "execution_count": 1,
   "id": "5f91ef9a-7a90-4e3c-9ccb-884e5107495b",
   "metadata": {},
   "outputs": [],
   "source": [
    "import pandas as pd\n",
    "import numpy as np\n",
    "import os\n",
    "import re\n",
    "from copy import deepcopy \n",
    "\n",
    "from collections import Counter\n",
    "import seaborn as sns\n",
    "import matplotlib.pyplot as plt"
   ]
  },
  {
   "cell_type": "code",
   "execution_count": 2,
   "id": "a50e7e93",
   "metadata": {},
   "outputs": [],
   "source": [
    "base_dir = 'data/english_only/prompting_results_clean/with_metrics/' #experiment 1\n",
    "#base_dir = 'data/english_only/100k_results/with_metrics' #experiment 2"
   ]
  },
  {
   "cell_type": "code",
   "execution_count": 3,
   "id": "87d5d253",
   "metadata": {},
   "outputs": [],
   "source": [
    "from aggregate_metrics_helper import *"
   ]
  },
  {
   "cell_type": "code",
   "execution_count": 4,
   "id": "e34d6881",
   "metadata": {},
   "outputs": [],
   "source": [
    "os.chdir('/shared/0/projects/research-jam-summer-2024/')\n",
    "pd.options.mode.copy_on_write = True"
   ]
  },
  {
   "cell_type": "code",
   "execution_count": null,
   "id": "352ff91d",
   "metadata": {},
   "outputs": [],
   "source": []
  },
  {
   "cell_type": "code",
   "execution_count": 5,
   "id": "343d7c12",
   "metadata": {},
   "outputs": [
    {
     "name": "stdout",
     "output_type": "stream",
     "text": [
      "wildchat_subset_en_2k_prompting_Qwen2-72B-Instruct.jsonl\n",
      "wildchat_subset_en_2k_prompting_c4ai-command-r-v01.jsonl\n",
      "wildchat_subset_en_2k_prompting_Mixtral-8x7B-Instruct-v0.1.jsonl\n",
      "wildchat_subset_en_2k_prompting_Meta-Llama-3-70B-Instruct.jsonl\n",
      "wildchat_subset_en_2k_prompting_Mistral-Large-Instruct.jsonl\n",
      "wildchat_subset_en_2k_prompting_Phi-3-medium-4k-instruct.jsonl\n",
      "wildchat_subset_en_2k_prompting_Mistral-7B-Instruct-v0.3.jsonl\n",
      "wildchat_subset_en_2k_prompting_Meta-Llama-3.1-8B-Instruct.jsonl\n",
      "wildchat_subset_en_2k_prompting_Meta-Llama-3.1-70B-Instruct.jsonl\n"
     ]
    }
   ],
   "source": [
    "for f in os.listdir(base_dir):\n",
    "    if f.startswith('wildchat_subset_en_2k_prompting') and not f.endswith('_end.jsonl') and not f.endswith('_embeddings.npz') and not f.endswith('lexical.jsonl') and not f.endswith('MERGED.jsonl') and not f.endswith('_POS_DEP.jsonl'):\n",
    "        print(f)"
   ]
  },
  {
   "cell_type": "code",
   "execution_count": null,
   "id": "29e7b34f",
   "metadata": {},
   "outputs": [],
   "source": []
  },
  {
   "cell_type": "code",
   "execution_count": 6,
   "id": "cc687bfc",
   "metadata": {},
   "outputs": [
    {
     "name": "stdout",
     "output_type": "stream",
     "text": [
      "wildchat_subset_en_2k_prompting_Qwen2-72B-Instruct.jsonl\n",
      "read metrics\n",
      "read dependency parse metrics\n",
      "read embeddings\n"
     ]
    }
   ],
   "source": [
    "# READ DATA\n",
    "f = 'wildchat_subset_en_2k_prompting_Qwen2-72B-Instruct.jsonl'\n",
    "metrics = make_human_vs_llm_df(f, base_dir)\n"
   ]
  },
  {
   "cell_type": "code",
   "execution_count": 7,
   "id": "af4db587",
   "metadata": {},
   "outputs": [
    {
     "data": {
      "text/html": [
       "<div>\n",
       "<style scoped>\n",
       "    .dataframe tbody tr th:only-of-type {\n",
       "        vertical-align: middle;\n",
       "    }\n",
       "\n",
       "    .dataframe tbody tr th {\n",
       "        vertical-align: top;\n",
       "    }\n",
       "\n",
       "    .dataframe thead th {\n",
       "        text-align: right;\n",
       "    }\n",
       "</style>\n",
       "<table border=\"1\" class=\"dataframe\">\n",
       "  <thead>\n",
       "    <tr style=\"text-align: right;\">\n",
       "      <th></th>\n",
       "      <th>hashed_ip</th>\n",
       "      <th>model</th>\n",
       "      <th>conversation_hash</th>\n",
       "      <th>prompt</th>\n",
       "      <th>human_perplexity</th>\n",
       "      <th>llm_perplexity</th>\n",
       "      <th>human_subjectivity</th>\n",
       "      <th>llm_subjectivity</th>\n",
       "      <th>human_liwc</th>\n",
       "      <th>human_politeness</th>\n",
       "      <th>...</th>\n",
       "      <th>human_dep_dpth</th>\n",
       "      <th>human_dep_brth</th>\n",
       "      <th>human_dep_dep_dist</th>\n",
       "      <th>llm_dep_dpth</th>\n",
       "      <th>llm_dep_brth</th>\n",
       "      <th>llm_dep_dep_dist</th>\n",
       "      <th>human_sbert</th>\n",
       "      <th>llm_sbert</th>\n",
       "      <th>human_luar</th>\n",
       "      <th>llm_luar</th>\n",
       "    </tr>\n",
       "  </thead>\n",
       "  <tbody>\n",
       "    <tr>\n",
       "      <th>0</th>\n",
       "      <td>568ecf3349b46c238268f63bcdbb2e12cd88feea3052b9...</td>\n",
       "      <td>wildchat_subset_en_2k_prompting_Qwen2-72B-Inst...</td>\n",
       "      <td>231dc924f9bf607871bf3e5699930833</td>\n",
       "      <td>Prompt_1</td>\n",
       "      <td>158.865589</td>\n",
       "      <td>42.382804</td>\n",
       "      <td>6.000000e-01</td>\n",
       "      <td>5.500000e-01</td>\n",
       "      <td>{'achieve': 0.0, 'affect': 0.0, 'anger': 0.0, ...</td>\n",
       "      <td>0.120022</td>\n",
       "      <td>...</td>\n",
       "      <td>2</td>\n",
       "      <td>5</td>\n",
       "      <td>2.222222</td>\n",
       "      <td>4</td>\n",
       "      <td>5</td>\n",
       "      <td>1.296296</td>\n",
       "      <td>[0.058730680495500565, -0.027935944497585297, ...</td>\n",
       "      <td>[0.01683928444981575, 0.11676625162363052, -0....</td>\n",
       "      <td>[0.13018760085105896, 0.248081773519516, -0.19...</td>\n",
       "      <td>[-0.2808733284473419, -0.851929247379303, 0.34...</td>\n",
       "    </tr>\n",
       "    <tr>\n",
       "      <th>1</th>\n",
       "      <td>d3c81b62172c8e48ca874e118ee957e3db84d1f9b4d5b1...</td>\n",
       "      <td>wildchat_subset_en_2k_prompting_Qwen2-72B-Inst...</td>\n",
       "      <td>edf58f8e33a00f9c374d448aad703650</td>\n",
       "      <td>Prompt_1</td>\n",
       "      <td>26.437630</td>\n",
       "      <td>17.138431</td>\n",
       "      <td>1.000000e-10</td>\n",
       "      <td>7.250000e-01</td>\n",
       "      <td>{'achieve': 0.0, 'affect': 0.0, 'anger': 0.0, ...</td>\n",
       "      <td>0.984959</td>\n",
       "      <td>...</td>\n",
       "      <td>4</td>\n",
       "      <td>3</td>\n",
       "      <td>1.375000</td>\n",
       "      <td>8</td>\n",
       "      <td>6</td>\n",
       "      <td>1.415584</td>\n",
       "      <td>[0.016433479264378548, -0.010125488974153996, ...</td>\n",
       "      <td>[-0.007542246486991644, -0.08430641144514084, ...</td>\n",
       "      <td>[-0.3781570494174957, -0.3390761911869049, 0.3...</td>\n",
       "      <td>[0.6965972185134888, -0.194828599691391, -0.06...</td>\n",
       "    </tr>\n",
       "    <tr>\n",
       "      <th>2</th>\n",
       "      <td>6e9b81c31754d99e4f9df95bd6317c844f444f4eedd216...</td>\n",
       "      <td>wildchat_subset_en_2k_prompting_Qwen2-72B-Inst...</td>\n",
       "      <td>544d60f14b495ca7e7ae9dbe2ed63220</td>\n",
       "      <td>Prompt_1</td>\n",
       "      <td>64.936443</td>\n",
       "      <td>42.698814</td>\n",
       "      <td>7.272727e-01</td>\n",
       "      <td>6.250000e-01</td>\n",
       "      <td>{'achieve': 0.0, 'affect': 0.0, 'anger': 0.0, ...</td>\n",
       "      <td>0.607415</td>\n",
       "      <td>...</td>\n",
       "      <td>7</td>\n",
       "      <td>4</td>\n",
       "      <td>1.516129</td>\n",
       "      <td>6</td>\n",
       "      <td>5</td>\n",
       "      <td>1.521739</td>\n",
       "      <td>[-0.04167027771472931, -0.03375384956598282, 0...</td>\n",
       "      <td>[0.00025410144007764757, 0.0863824188709259, 0...</td>\n",
       "      <td>[0.21861684322357178, 0.04622489586472511, -0....</td>\n",
       "      <td>[-0.2201990783214569, -0.31897538900375366, -0...</td>\n",
       "    </tr>\n",
       "    <tr>\n",
       "      <th>3</th>\n",
       "      <td>5ed67e4bf7e0054269cd7281f76a05f7fa75bf36856ea7...</td>\n",
       "      <td>wildchat_subset_en_2k_prompting_Qwen2-72B-Inst...</td>\n",
       "      <td>1f63b7d1807287f1d1ecfb8710075789</td>\n",
       "      <td>Prompt_1</td>\n",
       "      <td>45.380340</td>\n",
       "      <td>58.248050</td>\n",
       "      <td>5.000000e-01</td>\n",
       "      <td>5.400000e-01</td>\n",
       "      <td>{'achieve': 0.0, 'affect': 0.0487804878, 'ange...</td>\n",
       "      <td>0.751625</td>\n",
       "      <td>...</td>\n",
       "      <td>7</td>\n",
       "      <td>10</td>\n",
       "      <td>2.643836</td>\n",
       "      <td>4</td>\n",
       "      <td>8</td>\n",
       "      <td>1.872340</td>\n",
       "      <td>[-0.04662158340215683, 0.0035614471416920424, ...</td>\n",
       "      <td>[-0.06962382048368454, -0.0201204102486372, -0...</td>\n",
       "      <td>[-0.02591072767972946, -0.02138587459921837, -...</td>\n",
       "      <td>[0.5467545986175537, 0.12464392185211182, -0.5...</td>\n",
       "    </tr>\n",
       "    <tr>\n",
       "      <th>4</th>\n",
       "      <td>c29121a61bae1319376607d7a8475b8a7339ee288fa66c...</td>\n",
       "      <td>wildchat_subset_en_2k_prompting_Qwen2-72B-Inst...</td>\n",
       "      <td>245490794224427cf7c4be8fdba35f8c</td>\n",
       "      <td>Prompt_1</td>\n",
       "      <td>6.070055</td>\n",
       "      <td>14.332415</td>\n",
       "      <td>5.187500e-01</td>\n",
       "      <td>1.000000e-10</td>\n",
       "      <td>{'achieve': 0.0461538462, 'affect': 0.15384615...</td>\n",
       "      <td>0.480610</td>\n",
       "      <td>...</td>\n",
       "      <td>10</td>\n",
       "      <td>18</td>\n",
       "      <td>3.044321</td>\n",
       "      <td>4</td>\n",
       "      <td>6</td>\n",
       "      <td>1.573333</td>\n",
       "      <td>[0.03154560178518295, -0.023224515840411186, -...</td>\n",
       "      <td>[-0.01936245523393154, 0.04322631657123566, 0....</td>\n",
       "      <td>[0.6277977228164673, 0.3861098885536194, -0.49...</td>\n",
       "      <td>[0.0921144187450409, 0.22655180096626282, 0.09...</td>\n",
       "    </tr>\n",
       "  </tbody>\n",
       "</table>\n",
       "<p>5 rows × 44 columns</p>\n",
       "</div>"
      ],
      "text/plain": [
       "                                           hashed_ip  \\\n",
       "0  568ecf3349b46c238268f63bcdbb2e12cd88feea3052b9...   \n",
       "1  d3c81b62172c8e48ca874e118ee957e3db84d1f9b4d5b1...   \n",
       "2  6e9b81c31754d99e4f9df95bd6317c844f444f4eedd216...   \n",
       "3  5ed67e4bf7e0054269cd7281f76a05f7fa75bf36856ea7...   \n",
       "4  c29121a61bae1319376607d7a8475b8a7339ee288fa66c...   \n",
       "\n",
       "                                               model  \\\n",
       "0  wildchat_subset_en_2k_prompting_Qwen2-72B-Inst...   \n",
       "1  wildchat_subset_en_2k_prompting_Qwen2-72B-Inst...   \n",
       "2  wildchat_subset_en_2k_prompting_Qwen2-72B-Inst...   \n",
       "3  wildchat_subset_en_2k_prompting_Qwen2-72B-Inst...   \n",
       "4  wildchat_subset_en_2k_prompting_Qwen2-72B-Inst...   \n",
       "\n",
       "                  conversation_hash    prompt  human_perplexity  \\\n",
       "0  231dc924f9bf607871bf3e5699930833  Prompt_1        158.865589   \n",
       "1  edf58f8e33a00f9c374d448aad703650  Prompt_1         26.437630   \n",
       "2  544d60f14b495ca7e7ae9dbe2ed63220  Prompt_1         64.936443   \n",
       "3  1f63b7d1807287f1d1ecfb8710075789  Prompt_1         45.380340   \n",
       "4  245490794224427cf7c4be8fdba35f8c  Prompt_1          6.070055   \n",
       "\n",
       "   llm_perplexity  human_subjectivity  llm_subjectivity  \\\n",
       "0       42.382804        6.000000e-01      5.500000e-01   \n",
       "1       17.138431        1.000000e-10      7.250000e-01   \n",
       "2       42.698814        7.272727e-01      6.250000e-01   \n",
       "3       58.248050        5.000000e-01      5.400000e-01   \n",
       "4       14.332415        5.187500e-01      1.000000e-10   \n",
       "\n",
       "                                          human_liwc  human_politeness  ...  \\\n",
       "0  {'achieve': 0.0, 'affect': 0.0, 'anger': 0.0, ...          0.120022  ...   \n",
       "1  {'achieve': 0.0, 'affect': 0.0, 'anger': 0.0, ...          0.984959  ...   \n",
       "2  {'achieve': 0.0, 'affect': 0.0, 'anger': 0.0, ...          0.607415  ...   \n",
       "3  {'achieve': 0.0, 'affect': 0.0487804878, 'ange...          0.751625  ...   \n",
       "4  {'achieve': 0.0461538462, 'affect': 0.15384615...          0.480610  ...   \n",
       "\n",
       "   human_dep_dpth  human_dep_brth  human_dep_dep_dist llm_dep_dpth  \\\n",
       "0               2               5            2.222222            4   \n",
       "1               4               3            1.375000            8   \n",
       "2               7               4            1.516129            6   \n",
       "3               7              10            2.643836            4   \n",
       "4              10              18            3.044321            4   \n",
       "\n",
       "   llm_dep_brth  llm_dep_dep_dist  \\\n",
       "0             5          1.296296   \n",
       "1             6          1.415584   \n",
       "2             5          1.521739   \n",
       "3             8          1.872340   \n",
       "4             6          1.573333   \n",
       "\n",
       "                                         human_sbert  \\\n",
       "0  [0.058730680495500565, -0.027935944497585297, ...   \n",
       "1  [0.016433479264378548, -0.010125488974153996, ...   \n",
       "2  [-0.04167027771472931, -0.03375384956598282, 0...   \n",
       "3  [-0.04662158340215683, 0.0035614471416920424, ...   \n",
       "4  [0.03154560178518295, -0.023224515840411186, -...   \n",
       "\n",
       "                                           llm_sbert  \\\n",
       "0  [0.01683928444981575, 0.11676625162363052, -0....   \n",
       "1  [-0.007542246486991644, -0.08430641144514084, ...   \n",
       "2  [0.00025410144007764757, 0.0863824188709259, 0...   \n",
       "3  [-0.06962382048368454, -0.0201204102486372, -0...   \n",
       "4  [-0.01936245523393154, 0.04322631657123566, 0....   \n",
       "\n",
       "                                          human_luar  \\\n",
       "0  [0.13018760085105896, 0.248081773519516, -0.19...   \n",
       "1  [-0.3781570494174957, -0.3390761911869049, 0.3...   \n",
       "2  [0.21861684322357178, 0.04622489586472511, -0....   \n",
       "3  [-0.02591072767972946, -0.02138587459921837, -...   \n",
       "4  [0.6277977228164673, 0.3861098885536194, -0.49...   \n",
       "\n",
       "                                            llm_luar  \n",
       "0  [-0.2808733284473419, -0.851929247379303, 0.34...  \n",
       "1  [0.6965972185134888, -0.194828599691391, -0.06...  \n",
       "2  [-0.2201990783214569, -0.31897538900375366, -0...  \n",
       "3  [0.5467545986175537, 0.12464392185211182, -0.5...  \n",
       "4  [0.0921144187450409, 0.22655180096626282, 0.09...  \n",
       "\n",
       "[5 rows x 44 columns]"
      ]
     },
     "execution_count": 7,
     "metadata": {},
     "output_type": "execute_result"
    }
   ],
   "source": [
    "metrics.head()"
   ]
  },
  {
   "cell_type": "code",
   "execution_count": null,
   "id": "b388d7f8",
   "metadata": {},
   "outputs": [],
   "source": [
    "# turn llm_ cols into metrics from the random baseline\n"
   ]
  },
  {
   "cell_type": "code",
   "execution_count": 8,
   "id": "b1d6a52c",
   "metadata": {},
   "outputs": [],
   "source": [
    "# log scale heavy-tailed count metrics\n",
    "for k in ['word_count', 'word_length', 'perplexity', 'dep_dpth', 'dep_brth', 'dep_dep_dist']:\n",
    "    metrics['human_'+k] = np.log(metrics['human_'+k]+1)\n",
    "    metrics['llm_'+k] = np.log(metrics['llm_'+k]+1)"
   ]
  },
  {
   "cell_type": "code",
   "execution_count": 9,
   "id": "59365f25",
   "metadata": {},
   "outputs": [
    {
     "name": "stdout",
     "output_type": "stream",
     "text": [
      "Counter({True: 20})\n",
      "Counter({True: 20})\n",
      "Counter({True: 4})\n",
      "Counter({True: 44})\n"
     ]
    }
   ],
   "source": [
    "# check that columns are exactly the merge keys and human/llm metrics from all_metrics \n",
    "\n",
    "print(Counter(['human_'+k in metrics.columns for k in all_metrics]))\n",
    "print(Counter(['llm_'+k in metrics.columns for k in all_metrics]))\n",
    "print(Counter([k in metrics.columns for k in merge_keys]))\n",
    "print(Counter([k in merge_keys or re.sub('human_|llm_','',k) in all_metrics \n",
    "               for k in metrics.columns]))\n"
   ]
  },
  {
   "cell_type": "code",
   "execution_count": null,
   "id": "76882430",
   "metadata": {},
   "outputs": [],
   "source": []
  },
  {
   "cell_type": "code",
   "execution_count": 10,
   "id": "9afd131f",
   "metadata": {},
   "outputs": [],
   "source": [
    "metric_category = {}\n",
    "for k in lexical: metric_category[k] = 'lexical'\n",
    "for k in syntactic: metric_category[k] = 'syntactic'\n",
    "for k in semantic: metric_category[k] = 'semantic'\n",
    "for k in style: metric_category[k] = 'style'"
   ]
  },
  {
   "cell_type": "code",
   "execution_count": 11,
   "id": "2d7cec7e",
   "metadata": {},
   "outputs": [],
   "source": [
    "# CREATE COLUMN AGGREGATES WITH CORRELATION\n",
    "def corr_metric(corr_method):\n",
    "    model = []\n",
    "    metric = []\n",
    "    cor = []\n",
    "    for mod in set(metrics.model):\n",
    "        print(mod)\n",
    "        sub = metrics[metrics.model == mod]\n",
    "        for k in all_metrics:\n",
    "            model.append(mod)\n",
    "            metric.append(k)\n",
    "            cor.append(col_diff_correlate(sub['human_'+k], sub['llm_'+k], all_metrics[k], corr_method))\n",
    "    col_corr = pd.DataFrame({'model': model, 'metric': metric, 'cor': cor, 'corr_method': corr_method})\n",
    "    col_corr['category'] = col_corr['metric'].replace(metric_category)\n",
    "    return col_corr"
   ]
  },
  {
   "cell_type": "code",
   "execution_count": 12,
   "id": "06cd3214",
   "metadata": {},
   "outputs": [
    {
     "name": "stdout",
     "output_type": "stream",
     "text": [
      "wildchat_subset_en_2k_prompting_Qwen2-72B-Instruct\n",
      "wildchat_subset_en_2k_prompting_Qwen2-72B-Instruct\n",
      "wildchat_subset_en_2k_prompting_Qwen2-72B-Instruct\n"
     ]
    }
   ],
   "source": [
    "col_corr = {m: corr_metric(m) for m in ['pearson','spearman','kendall']}"
   ]
  },
  {
   "cell_type": "code",
   "execution_count": null,
   "id": "9e1fc572",
   "metadata": {},
   "outputs": [],
   "source": [
    "col_corr['pearson'].to_csv('data/agg_metrics/cor_metrics_random_baseline.csv', index=None)"
   ]
  },
  {
   "cell_type": "code",
   "execution_count": null,
   "id": "b5658cad",
   "metadata": {},
   "outputs": [],
   "source": []
  }
 ],
 "metadata": {
  "kernelspec": {
   "display_name": "Python 3 (ipykernel)",
   "language": "python",
   "name": "python3"
  },
  "language_info": {
   "codemirror_mode": {
    "name": "ipython",
    "version": 3
   },
   "file_extension": ".py",
   "mimetype": "text/x-python",
   "name": "python",
   "nbconvert_exporter": "python",
   "pygments_lexer": "ipython3",
   "version": "3.11.5"
  }
 },
 "nbformat": 4,
 "nbformat_minor": 5
}
