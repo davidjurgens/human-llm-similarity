{
 "cells": [
  {
   "cell_type": "code",
   "execution_count": 1,
   "id": "5f91ef9a-7a90-4e3c-9ccb-884e5107495b",
   "metadata": {},
   "outputs": [],
   "source": [
    "import pandas as pd\n",
    "import numpy as np\n",
    "import os\n",
    "import re\n",
    "from copy import deepcopy \n",
    "\n",
    "from collections import Counter\n",
    "import seaborn as sns\n",
    "import matplotlib.pyplot as plt"
   ]
  },
  {
   "cell_type": "code",
   "execution_count": 2,
   "id": "a50e7e93",
   "metadata": {},
   "outputs": [],
   "source": [
    "base_dir = 'data/english_only/prompting_results_clean/with_metrics/' #experiment 1\n",
    "#base_dir = 'data/english_only/100k_results/with_metrics' #experiment 2"
   ]
  },
  {
   "cell_type": "code",
   "execution_count": 3,
   "id": "87d5d253",
   "metadata": {},
   "outputs": [],
   "source": [
    "from aggregate_metrics_helper import *"
   ]
  },
  {
   "cell_type": "code",
   "execution_count": 4,
   "id": "e34d6881",
   "metadata": {},
   "outputs": [],
   "source": [
    "os.chdir('/shared/0/projects/research-jam-summer-2024/')\n",
    "pd.options.mode.copy_on_write = True"
   ]
  },
  {
   "cell_type": "code",
   "execution_count": null,
   "id": "352ff91d",
   "metadata": {},
   "outputs": [],
   "source": []
  },
  {
   "cell_type": "code",
   "execution_count": 5,
   "id": "343d7c12",
   "metadata": {},
   "outputs": [
    {
     "name": "stdout",
     "output_type": "stream",
     "text": [
      "wildchat_subset_en_2k_prompting_Qwen2-72B-Instruct.jsonl\n",
      "wildchat_subset_en_2k_prompting_c4ai-command-r-v01.jsonl\n",
      "wildchat_subset_en_2k_prompting_Mixtral-8x7B-Instruct-v0.1.jsonl\n",
      "wildchat_subset_en_2k_prompting_Meta-Llama-3-70B-Instruct.jsonl\n",
      "wildchat_subset_en_2k_prompting_Mistral-Large-Instruct.jsonl\n",
      "wildchat_subset_en_2k_prompting_Phi-3-medium-4k-instruct.jsonl\n",
      "wildchat_subset_en_2k_prompting_Mistral-7B-Instruct-v0.3.jsonl\n",
      "wildchat_subset_en_2k_prompting_Meta-Llama-3.1-8B-Instruct.jsonl\n",
      "wildchat_subset_en_2k_prompting_Meta-Llama-3.1-70B-Instruct.jsonl\n"
     ]
    }
   ],
   "source": [
    "for f in os.listdir(base_dir):\n",
    "    if f.startswith('wildchat_subset_en_2k_prompting') and not f.endswith('_end.jsonl') and not f.endswith('_embeddings.npz') and not f.endswith('lexical.jsonl') and not f.endswith('MERGED.jsonl') and not f.endswith('_POS_DEP.jsonl'):\n",
    "        print(f)"
   ]
  },
  {
   "cell_type": "code",
   "execution_count": 6,
   "id": "cc687bfc",
   "metadata": {},
   "outputs": [
    {
     "name": "stdout",
     "output_type": "stream",
     "text": [
      "wildchat_subset_en_2k_prompting_Qwen2-72B-Instruct.jsonl\n",
      "read metrics\n"
     ]
    },
    {
     "ename": "KeyError",
     "evalue": "\"['human_pos', 'llm_pos'] not in index\"",
     "output_type": "error",
     "traceback": [
      "\u001b[0;31m---------------------------------------------------------------------------\u001b[0m",
      "\u001b[0;31mKeyError\u001b[0m                                  Traceback (most recent call last)",
      "Cell \u001b[0;32mIn[6], line 3\u001b[0m\n\u001b[1;32m      1\u001b[0m \u001b[38;5;66;03m# READ DATA\u001b[39;00m\n\u001b[1;32m      2\u001b[0m f \u001b[38;5;241m=\u001b[39m \u001b[38;5;124m'\u001b[39m\u001b[38;5;124mwildchat_subset_en_2k_prompting_Qwen2-72B-Instruct.jsonl\u001b[39m\u001b[38;5;124m'\u001b[39m\n\u001b[0;32m----> 3\u001b[0m metrics \u001b[38;5;241m=\u001b[39m make_human_vs_llm_df(f, base_dir)\n",
      "File \u001b[0;32m~/Misc/human-llm-similarity/src/analysis/aggregate_metrics_helper.py:116\u001b[0m, in \u001b[0;36mmake_human_vs_llm_df\u001b[0;34m(f, base_dir)\u001b[0m\n\u001b[1;32m    114\u001b[0m df[\u001b[38;5;124m'\u001b[39m\u001b[38;5;124mllm_punctuation\u001b[39m\u001b[38;5;124m'\u001b[39m] \u001b[38;5;241m=\u001b[39m df[\u001b[38;5;124m'\u001b[39m\u001b[38;5;124mllm_punctuation\u001b[39m\u001b[38;5;124m'\u001b[39m]\u001b[38;5;241m.\u001b[39mapply(add_total)\n\u001b[1;32m    115\u001b[0m \u001b[38;5;66;03m#subset columns\u001b[39;00m\n\u001b[0;32m--> 116\u001b[0m df \u001b[38;5;241m=\u001b[39m df\u001b[38;5;241m.\u001b[39mdrop([\u001b[38;5;124m'\u001b[39m\u001b[38;5;124mhuman_pos\u001b[39m\u001b[38;5;124m'\u001b[39m,\u001b[38;5;124m'\u001b[39m\u001b[38;5;124mllm_pos\u001b[39m\u001b[38;5;124m'\u001b[39m], axis\u001b[38;5;241m=\u001b[39m\u001b[38;5;241m1\u001b[39m)[[c \u001b[38;5;28;01mfor\u001b[39;00m c \u001b[38;5;129;01min\u001b[39;00m df\u001b[38;5;241m.\u001b[39mcolumns \n\u001b[1;32m    117\u001b[0m                                                \u001b[38;5;28;01mif\u001b[39;00m c \u001b[38;5;129;01min\u001b[39;00m merge_keys \u001b[38;5;129;01mor\u001b[39;00m re\u001b[38;5;241m.\u001b[39msub(\u001b[38;5;124m'\u001b[39m\u001b[38;5;124mhuman_|llm_\u001b[39m\u001b[38;5;124m'\u001b[39m,\u001b[38;5;124m'\u001b[39m\u001b[38;5;124m'\u001b[39m,c) \u001b[38;5;129;01min\u001b[39;00m all_metrics]]\n\u001b[1;32m    120\u001b[0m \u001b[38;5;28mprint\u001b[39m(\u001b[38;5;124m'\u001b[39m\u001b[38;5;124mread dependency parse metrics\u001b[39m\u001b[38;5;124m'\u001b[39m)\n\u001b[1;32m    121\u001b[0m \u001b[38;5;66;03m# read dependency parse metrics\u001b[39;00m\n",
      "File \u001b[0;32m/opt/anaconda/lib/python3.11/site-packages/pandas/core/frame.py:4108\u001b[0m, in \u001b[0;36mDataFrame.__getitem__\u001b[0;34m(self, key)\u001b[0m\n\u001b[1;32m   4106\u001b[0m     \u001b[38;5;28;01mif\u001b[39;00m is_iterator(key):\n\u001b[1;32m   4107\u001b[0m         key \u001b[38;5;241m=\u001b[39m \u001b[38;5;28mlist\u001b[39m(key)\n\u001b[0;32m-> 4108\u001b[0m     indexer \u001b[38;5;241m=\u001b[39m \u001b[38;5;28mself\u001b[39m\u001b[38;5;241m.\u001b[39mcolumns\u001b[38;5;241m.\u001b[39m_get_indexer_strict(key, \u001b[38;5;124m\"\u001b[39m\u001b[38;5;124mcolumns\u001b[39m\u001b[38;5;124m\"\u001b[39m)[\u001b[38;5;241m1\u001b[39m]\n\u001b[1;32m   4110\u001b[0m \u001b[38;5;66;03m# take() does not accept boolean indexers\u001b[39;00m\n\u001b[1;32m   4111\u001b[0m \u001b[38;5;28;01mif\u001b[39;00m \u001b[38;5;28mgetattr\u001b[39m(indexer, \u001b[38;5;124m\"\u001b[39m\u001b[38;5;124mdtype\u001b[39m\u001b[38;5;124m\"\u001b[39m, \u001b[38;5;28;01mNone\u001b[39;00m) \u001b[38;5;241m==\u001b[39m \u001b[38;5;28mbool\u001b[39m:\n",
      "File \u001b[0;32m/opt/anaconda/lib/python3.11/site-packages/pandas/core/indexes/base.py:6200\u001b[0m, in \u001b[0;36mIndex._get_indexer_strict\u001b[0;34m(self, key, axis_name)\u001b[0m\n\u001b[1;32m   6197\u001b[0m \u001b[38;5;28;01melse\u001b[39;00m:\n\u001b[1;32m   6198\u001b[0m     keyarr, indexer, new_indexer \u001b[38;5;241m=\u001b[39m \u001b[38;5;28mself\u001b[39m\u001b[38;5;241m.\u001b[39m_reindex_non_unique(keyarr)\n\u001b[0;32m-> 6200\u001b[0m \u001b[38;5;28mself\u001b[39m\u001b[38;5;241m.\u001b[39m_raise_if_missing(keyarr, indexer, axis_name)\n\u001b[1;32m   6202\u001b[0m keyarr \u001b[38;5;241m=\u001b[39m \u001b[38;5;28mself\u001b[39m\u001b[38;5;241m.\u001b[39mtake(indexer)\n\u001b[1;32m   6203\u001b[0m \u001b[38;5;28;01mif\u001b[39;00m \u001b[38;5;28misinstance\u001b[39m(key, Index):\n\u001b[1;32m   6204\u001b[0m     \u001b[38;5;66;03m# GH 42790 - Preserve name from an Index\u001b[39;00m\n",
      "File \u001b[0;32m/opt/anaconda/lib/python3.11/site-packages/pandas/core/indexes/base.py:6252\u001b[0m, in \u001b[0;36mIndex._raise_if_missing\u001b[0;34m(self, key, indexer, axis_name)\u001b[0m\n\u001b[1;32m   6249\u001b[0m     \u001b[38;5;28;01mraise\u001b[39;00m \u001b[38;5;167;01mKeyError\u001b[39;00m(\u001b[38;5;124mf\u001b[39m\u001b[38;5;124m\"\u001b[39m\u001b[38;5;124mNone of [\u001b[39m\u001b[38;5;132;01m{\u001b[39;00mkey\u001b[38;5;132;01m}\u001b[39;00m\u001b[38;5;124m] are in the [\u001b[39m\u001b[38;5;132;01m{\u001b[39;00maxis_name\u001b[38;5;132;01m}\u001b[39;00m\u001b[38;5;124m]\u001b[39m\u001b[38;5;124m\"\u001b[39m)\n\u001b[1;32m   6251\u001b[0m not_found \u001b[38;5;241m=\u001b[39m \u001b[38;5;28mlist\u001b[39m(ensure_index(key)[missing_mask\u001b[38;5;241m.\u001b[39mnonzero()[\u001b[38;5;241m0\u001b[39m]]\u001b[38;5;241m.\u001b[39munique())\n\u001b[0;32m-> 6252\u001b[0m \u001b[38;5;28;01mraise\u001b[39;00m \u001b[38;5;167;01mKeyError\u001b[39;00m(\u001b[38;5;124mf\u001b[39m\u001b[38;5;124m\"\u001b[39m\u001b[38;5;132;01m{\u001b[39;00mnot_found\u001b[38;5;132;01m}\u001b[39;00m\u001b[38;5;124m not in index\u001b[39m\u001b[38;5;124m\"\u001b[39m)\n",
      "\u001b[0;31mKeyError\u001b[0m: \"['human_pos', 'llm_pos'] not in index\""
     ]
    }
   ],
   "source": [
    "# READ DATA\n",
    "f = 'wildchat_subset_en_2k_prompting_Qwen2-72B-Instruct.jsonl'\n",
    "metrics = make_human_vs_llm_df(f, base_dir)"
   ]
  },
  {
   "cell_type": "code",
   "execution_count": null,
   "id": "af4db587",
   "metadata": {},
   "outputs": [],
   "source": [
    "metrics.head()"
   ]
  },
  {
   "cell_type": "code",
   "execution_count": null,
   "id": "46f69d04",
   "metadata": {},
   "outputs": [],
   "source": [
    "# turn llm_ cols into metrics from the random baseline\n"
   ]
  },
  {
   "cell_type": "code",
   "execution_count": 8,
   "id": "b1d6a52c",
   "metadata": {},
   "outputs": [
    {
     "ename": "KeyError",
     "evalue": "'human_dep_dpth'",
     "output_type": "error",
     "traceback": [
      "\u001b[0;31m---------------------------------------------------------------------------\u001b[0m",
      "\u001b[0;31mKeyError\u001b[0m                                  Traceback (most recent call last)",
      "File \u001b[0;32m/opt/anaconda/lib/python3.11/site-packages/pandas/core/indexes/base.py:3805\u001b[0m, in \u001b[0;36mIndex.get_loc\u001b[0;34m(self, key)\u001b[0m\n\u001b[1;32m   3804\u001b[0m \u001b[38;5;28;01mtry\u001b[39;00m:\n\u001b[0;32m-> 3805\u001b[0m     \u001b[38;5;28;01mreturn\u001b[39;00m \u001b[38;5;28mself\u001b[39m\u001b[38;5;241m.\u001b[39m_engine\u001b[38;5;241m.\u001b[39mget_loc(casted_key)\n\u001b[1;32m   3806\u001b[0m \u001b[38;5;28;01mexcept\u001b[39;00m \u001b[38;5;167;01mKeyError\u001b[39;00m \u001b[38;5;28;01mas\u001b[39;00m err:\n",
      "File \u001b[0;32mindex.pyx:167\u001b[0m, in \u001b[0;36mpandas._libs.index.IndexEngine.get_loc\u001b[0;34m()\u001b[0m\n",
      "File \u001b[0;32mindex.pyx:196\u001b[0m, in \u001b[0;36mpandas._libs.index.IndexEngine.get_loc\u001b[0;34m()\u001b[0m\n",
      "File \u001b[0;32mpandas/_libs/hashtable_class_helper.pxi:7081\u001b[0m, in \u001b[0;36mpandas._libs.hashtable.PyObjectHashTable.get_item\u001b[0;34m()\u001b[0m\n",
      "File \u001b[0;32mpandas/_libs/hashtable_class_helper.pxi:7089\u001b[0m, in \u001b[0;36mpandas._libs.hashtable.PyObjectHashTable.get_item\u001b[0;34m()\u001b[0m\n",
      "\u001b[0;31mKeyError\u001b[0m: 'human_dep_dpth'",
      "\nThe above exception was the direct cause of the following exception:\n",
      "\u001b[0;31mKeyError\u001b[0m                                  Traceback (most recent call last)",
      "Cell \u001b[0;32mIn[8], line 3\u001b[0m\n\u001b[1;32m      1\u001b[0m \u001b[38;5;66;03m# log scale heavy-tailed count metrics\u001b[39;00m\n\u001b[1;32m      2\u001b[0m \u001b[38;5;28;01mfor\u001b[39;00m k \u001b[38;5;129;01min\u001b[39;00m [\u001b[38;5;124m'\u001b[39m\u001b[38;5;124mword_count\u001b[39m\u001b[38;5;124m'\u001b[39m, \u001b[38;5;124m'\u001b[39m\u001b[38;5;124mword_length\u001b[39m\u001b[38;5;124m'\u001b[39m, \u001b[38;5;124m'\u001b[39m\u001b[38;5;124mperplexity\u001b[39m\u001b[38;5;124m'\u001b[39m, \u001b[38;5;124m'\u001b[39m\u001b[38;5;124mdep_dpth\u001b[39m\u001b[38;5;124m'\u001b[39m, \u001b[38;5;124m'\u001b[39m\u001b[38;5;124mdep_brth\u001b[39m\u001b[38;5;124m'\u001b[39m, \u001b[38;5;124m'\u001b[39m\u001b[38;5;124mdep_dep_dist\u001b[39m\u001b[38;5;124m'\u001b[39m]:\n\u001b[0;32m----> 3\u001b[0m     metrics[\u001b[38;5;124m'\u001b[39m\u001b[38;5;124mhuman_\u001b[39m\u001b[38;5;124m'\u001b[39m\u001b[38;5;241m+\u001b[39mk] \u001b[38;5;241m=\u001b[39m np\u001b[38;5;241m.\u001b[39mlog(metrics[\u001b[38;5;124m'\u001b[39m\u001b[38;5;124mhuman_\u001b[39m\u001b[38;5;124m'\u001b[39m\u001b[38;5;241m+\u001b[39mk]\u001b[38;5;241m+\u001b[39m\u001b[38;5;241m1\u001b[39m)\n\u001b[1;32m      4\u001b[0m     metrics[\u001b[38;5;124m'\u001b[39m\u001b[38;5;124mllm_\u001b[39m\u001b[38;5;124m'\u001b[39m\u001b[38;5;241m+\u001b[39mk] \u001b[38;5;241m=\u001b[39m np\u001b[38;5;241m.\u001b[39mlog(metrics[\u001b[38;5;124m'\u001b[39m\u001b[38;5;124mllm_\u001b[39m\u001b[38;5;124m'\u001b[39m\u001b[38;5;241m+\u001b[39mk]\u001b[38;5;241m+\u001b[39m\u001b[38;5;241m1\u001b[39m)\n",
      "File \u001b[0;32m/opt/anaconda/lib/python3.11/site-packages/pandas/core/frame.py:4102\u001b[0m, in \u001b[0;36mDataFrame.__getitem__\u001b[0;34m(self, key)\u001b[0m\n\u001b[1;32m   4100\u001b[0m \u001b[38;5;28;01mif\u001b[39;00m \u001b[38;5;28mself\u001b[39m\u001b[38;5;241m.\u001b[39mcolumns\u001b[38;5;241m.\u001b[39mnlevels \u001b[38;5;241m>\u001b[39m \u001b[38;5;241m1\u001b[39m:\n\u001b[1;32m   4101\u001b[0m     \u001b[38;5;28;01mreturn\u001b[39;00m \u001b[38;5;28mself\u001b[39m\u001b[38;5;241m.\u001b[39m_getitem_multilevel(key)\n\u001b[0;32m-> 4102\u001b[0m indexer \u001b[38;5;241m=\u001b[39m \u001b[38;5;28mself\u001b[39m\u001b[38;5;241m.\u001b[39mcolumns\u001b[38;5;241m.\u001b[39mget_loc(key)\n\u001b[1;32m   4103\u001b[0m \u001b[38;5;28;01mif\u001b[39;00m is_integer(indexer):\n\u001b[1;32m   4104\u001b[0m     indexer \u001b[38;5;241m=\u001b[39m [indexer]\n",
      "File \u001b[0;32m/opt/anaconda/lib/python3.11/site-packages/pandas/core/indexes/base.py:3812\u001b[0m, in \u001b[0;36mIndex.get_loc\u001b[0;34m(self, key)\u001b[0m\n\u001b[1;32m   3807\u001b[0m     \u001b[38;5;28;01mif\u001b[39;00m \u001b[38;5;28misinstance\u001b[39m(casted_key, \u001b[38;5;28mslice\u001b[39m) \u001b[38;5;129;01mor\u001b[39;00m (\n\u001b[1;32m   3808\u001b[0m         \u001b[38;5;28misinstance\u001b[39m(casted_key, abc\u001b[38;5;241m.\u001b[39mIterable)\n\u001b[1;32m   3809\u001b[0m         \u001b[38;5;129;01mand\u001b[39;00m \u001b[38;5;28many\u001b[39m(\u001b[38;5;28misinstance\u001b[39m(x, \u001b[38;5;28mslice\u001b[39m) \u001b[38;5;28;01mfor\u001b[39;00m x \u001b[38;5;129;01min\u001b[39;00m casted_key)\n\u001b[1;32m   3810\u001b[0m     ):\n\u001b[1;32m   3811\u001b[0m         \u001b[38;5;28;01mraise\u001b[39;00m InvalidIndexError(key)\n\u001b[0;32m-> 3812\u001b[0m     \u001b[38;5;28;01mraise\u001b[39;00m \u001b[38;5;167;01mKeyError\u001b[39;00m(key) \u001b[38;5;28;01mfrom\u001b[39;00m \u001b[38;5;21;01merr\u001b[39;00m\n\u001b[1;32m   3813\u001b[0m \u001b[38;5;28;01mexcept\u001b[39;00m \u001b[38;5;167;01mTypeError\u001b[39;00m:\n\u001b[1;32m   3814\u001b[0m     \u001b[38;5;66;03m# If we have a listlike key, _check_indexing_error will raise\u001b[39;00m\n\u001b[1;32m   3815\u001b[0m     \u001b[38;5;66;03m#  InvalidIndexError. Otherwise we fall through and re-raise\u001b[39;00m\n\u001b[1;32m   3816\u001b[0m     \u001b[38;5;66;03m#  the TypeError.\u001b[39;00m\n\u001b[1;32m   3817\u001b[0m     \u001b[38;5;28mself\u001b[39m\u001b[38;5;241m.\u001b[39m_check_indexing_error(key)\n",
      "\u001b[0;31mKeyError\u001b[0m: 'human_dep_dpth'"
     ]
    }
   ],
   "source": [
    "# log scale heavy-tailed count metrics\n",
    "for k in ['word_count', 'word_length', 'perplexity', 'dep_dpth', 'dep_brth', 'dep_dep_dist']:\n",
    "    metrics['human_'+k] = np.log(metrics['human_'+k]+1)\n",
    "    metrics['llm_'+k] = np.log(metrics['llm_'+k]+1)"
   ]
  },
  {
   "cell_type": "code",
   "execution_count": 8,
   "id": "59365f25",
   "metadata": {},
   "outputs": [
    {
     "name": "stdout",
     "output_type": "stream",
     "text": [
      "Counter({True: 20})\n",
      "Counter({True: 20})\n",
      "Counter({True: 4})\n",
      "Counter({True: 44})\n"
     ]
    }
   ],
   "source": [
    "# check that columns are exactly the merge keys and human/llm metrics from all_metrics \n",
    "\n",
    "print(Counter(['human_'+k in metrics.columns for k in all_metrics]))\n",
    "print(Counter(['llm_'+k in metrics.columns for k in all_metrics]))\n",
    "print(Counter([k in metrics.columns for k in merge_keys]))\n",
    "print(Counter([k in merge_keys or re.sub('human_|llm_','',k) in all_metrics \n",
    "               for k in metrics.columns]))\n"
   ]
  },
  {
   "cell_type": "code",
   "execution_count": null,
   "id": "76882430",
   "metadata": {},
   "outputs": [],
   "source": []
  },
  {
   "cell_type": "code",
   "execution_count": 9,
   "id": "9afd131f",
   "metadata": {},
   "outputs": [],
   "source": [
    "metric_category = {}\n",
    "for k in lexical: metric_category[k] = 'lexical'\n",
    "for k in syntactic: metric_category[k] = 'syntactic'\n",
    "for k in semantic: metric_category[k] = 'semantic'\n",
    "for k in style: metric_category[k] = 'style'"
   ]
  },
  {
   "cell_type": "code",
   "execution_count": 12,
   "id": "2d7cec7e",
   "metadata": {},
   "outputs": [],
   "source": [
    "# CREATE COLUMN AGGREGATES WITH CORRELATION\n",
    "def corr_metric(corr_method):\n",
    "    model = []\n",
    "    metric = []\n",
    "    cor = []\n",
    "    for mod in set(metrics.model):\n",
    "        print(mod)\n",
    "        sub = metrics[metrics.model == mod]\n",
    "        for k in all_metrics:\n",
    "            model.append(mod)\n",
    "            metric.append(k)\n",
    "            cor.append(col_diff_correlate(sub['human_'+k], sub['llm_'+k], all_metrics[k], corr_method))\n",
    "    col_corr = pd.DataFrame({'model': model, 'metric': metric, 'cor': cor, 'corr_method': corr_method})\n",
    "    col_corr['category'] = col_corr['metric'].replace(metric_category)\n",
    "    return col_corr"
   ]
  },
  {
   "cell_type": "code",
   "execution_count": 13,
   "id": "06cd3214",
   "metadata": {},
   "outputs": [
    {
     "name": "stdout",
     "output_type": "stream",
     "text": [
      "wildchat_subset_en_2k_prompting_Meta-Llama-3-70B-Instruct\n",
      "wildchat_subset_en_2k_prompting_c4ai-command-r-v01\n",
      "wildchat_subset_en_2k_prompting_Meta-Llama-3.1-8B-Instruct\n",
      "wildchat_subset_en_2k_prompting_Mistral-7B-Instruct-v0.3\n",
      "wildchat_subset_en_2k_prompting_Phi-3-medium-4k-instruct\n",
      "wildchat_subset_en_2k_prompting_Mixtral-8x7B-Instruct-v0.1\n",
      "wildchat_subset_en_2k_prompting_Qwen2-72B-Instruct\n",
      "wildchat_subset_en_2k_prompting_Mistral-Large-Instruct\n",
      "wildchat_subset_en_2k_prompting_Meta-Llama-3.1-70B-Instruct\n",
      "wildchat_subset_en_2k_prompting_Meta-Llama-3-70B-Instruct\n",
      "wildchat_subset_en_2k_prompting_c4ai-command-r-v01\n",
      "wildchat_subset_en_2k_prompting_Meta-Llama-3.1-8B-Instruct\n",
      "wildchat_subset_en_2k_prompting_Mistral-7B-Instruct-v0.3\n",
      "wildchat_subset_en_2k_prompting_Phi-3-medium-4k-instruct\n",
      "wildchat_subset_en_2k_prompting_Mixtral-8x7B-Instruct-v0.1\n",
      "wildchat_subset_en_2k_prompting_Qwen2-72B-Instruct\n",
      "wildchat_subset_en_2k_prompting_Mistral-Large-Instruct\n",
      "wildchat_subset_en_2k_prompting_Meta-Llama-3.1-70B-Instruct\n",
      "wildchat_subset_en_2k_prompting_Meta-Llama-3-70B-Instruct\n",
      "wildchat_subset_en_2k_prompting_c4ai-command-r-v01\n",
      "wildchat_subset_en_2k_prompting_Meta-Llama-3.1-8B-Instruct\n",
      "wildchat_subset_en_2k_prompting_Mistral-7B-Instruct-v0.3\n",
      "wildchat_subset_en_2k_prompting_Phi-3-medium-4k-instruct\n",
      "wildchat_subset_en_2k_prompting_Mixtral-8x7B-Instruct-v0.1\n",
      "wildchat_subset_en_2k_prompting_Qwen2-72B-Instruct\n",
      "wildchat_subset_en_2k_prompting_Mistral-Large-Instruct\n",
      "wildchat_subset_en_2k_prompting_Meta-Llama-3.1-70B-Instruct\n"
     ]
    }
   ],
   "source": [
    "col_corr = {m: corr_metric(m) for m in ['pearson','spearman','kendall']}"
   ]
  },
  {
   "cell_type": "code",
   "execution_count": null,
   "id": "9e1fc572",
   "metadata": {},
   "outputs": [],
   "source": [
    "col_corr['pearson'].to_csv('data/agg_metrics/cor_metrics_random_baseline.csv', index=None)"
   ]
  },
  {
   "cell_type": "code",
   "execution_count": null,
   "id": "2bd3ff85",
   "metadata": {},
   "outputs": [],
   "source": []
  }
 ],
 "metadata": {
  "kernelspec": {
   "display_name": "Python 3 (ipykernel)",
   "language": "python",
   "name": "python3"
  },
  "language_info": {
   "codemirror_mode": {
    "name": "ipython",
    "version": 3
   },
   "file_extension": ".py",
   "mimetype": "text/x-python",
   "name": "python",
   "nbconvert_exporter": "python",
   "pygments_lexer": "ipython3",
   "version": "3.11.5"
  }
 },
 "nbformat": 4,
 "nbformat_minor": 5
}
