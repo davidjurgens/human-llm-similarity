{
 "cells": [
  {
   "cell_type": "code",
   "execution_count": 9,
   "id": "2fb691d4",
   "metadata": {},
   "outputs": [],
   "source": [
    "import json\n",
    "import language_tool_python\n",
    "from tqdm.auto import tqdm\n",
    "from collections import defaultdict\n",
    "import pandas as pd\n",
    "import numpy as np"
   ]
  },
  {
   "cell_type": "code",
   "execution_count": 2,
   "id": "686777af",
   "metadata": {},
   "outputs": [],
   "source": [
    "tool = language_tool_python.LanguageTool('en-US')"
   ]
  },
  {
   "cell_type": "code",
   "execution_count": 3,
   "id": "becfb934",
   "metadata": {},
   "outputs": [
    {
     "data": {
      "text/plain": [
       "2"
      ]
     },
     "execution_count": 3,
     "metadata": {},
     "output_type": "execute_result"
    }
   ],
   "source": [
    "text = 'A sentence with a error in the Hitchhiker’s Guide tot he Galaxy'\n",
    "matches = tool.check(text)\n",
    "len(matches)"
   ]
  },
  {
   "cell_type": "code",
   "execution_count": 4,
   "id": "aa97b022",
   "metadata": {},
   "outputs": [
    {
     "data": {
      "application/vnd.jupyter.widget-view+json": {
       "model_id": "4ff89521bd86456f9d50c8fb01fd61ea",
       "version_major": 2,
       "version_minor": 0
      },
      "text/plain": [
       "  0%|          | 0/100000 [00:00<?, ?it/s]"
      ]
     },
     "metadata": {},
     "output_type": "display_data"
    }
   ],
   "source": [
    "fname = '/shared/0/projects/research-jam-summer-2024/data/english_only/100k_results/wildchat_subset_en_100k_Llama-3.1-70B.jsonl'\n",
    "cid_to_text = {}\n",
    "cid_order = []\n",
    "with open(fname) as f:\n",
    "    for line in tqdm(f, total=100_000):\n",
    "        j = json.loads(line)\n",
    "        cid = j['conversation_hash']\n",
    "        cid_order.append(cid)\n",
    "        text = j['human_turn_1']\n",
    "        cid_to_text[cid] = text"
   ]
  },
  {
   "cell_type": "code",
   "execution_count": 5,
   "id": "3b0be968",
   "metadata": {},
   "outputs": [],
   "source": [
    "cid_to_num_errors = {}"
   ]
  },
  {
   "cell_type": "code",
   "execution_count": 12,
   "id": "f791d388",
   "metadata": {},
   "outputs": [
    {
     "data": {
      "application/vnd.jupyter.widget-view+json": {
       "model_id": "370512a3d25148d7880dcfb0914b37c1",
       "version_major": 2,
       "version_minor": 0
      },
      "text/plain": [
       "  0%|          | 0/99440 [00:00<?, ?it/s]"
      ]
     },
     "metadata": {},
     "output_type": "display_data"
    },
    {
     "name": "stdout",
     "output_type": "stream",
     "text": [
      "LanguageToolError(\"http://127.0.0.1:8082/v2/: HTTPConnectionPool(host='127.0.0.1', port=8082): Read timed out. (read timeout=300)\")\n",
      "LanguageToolError(\"http://127.0.0.1:8082/v2/: HTTPConnectionPool(host='127.0.0.1', port=8082): Read timed out. (read timeout=300)\")\n",
      "LanguageToolError(\"http://127.0.0.1:8082/v2/: HTTPConnectionPool(host='127.0.0.1', port=8082): Read timed out. (read timeout=300)\")\n",
      "LanguageToolError(\"http://127.0.0.1:8082/v2/: HTTPConnectionPool(host='127.0.0.1', port=8082): Read timed out. (read timeout=300)\")\n",
      "LanguageToolError(\"http://127.0.0.1:8082/v2/: HTTPConnectionPool(host='127.0.0.1', port=8082): Read timed out. (read timeout=300)\")\n",
      "LanguageToolError(\"http://127.0.0.1:8082/v2/: HTTPConnectionPool(host='127.0.0.1', port=8082): Read timed out. (read timeout=300)\")\n",
      "LanguageToolError(\"http://127.0.0.1:8082/v2/: HTTPConnectionPool(host='127.0.0.1', port=8082): Read timed out. (read timeout=300)\")\n",
      "LanguageToolError(\"http://127.0.0.1:8082/v2/: HTTPConnectionPool(host='127.0.0.1', port=8082): Read timed out. (read timeout=300)\")\n"
     ]
    }
   ],
   "source": [
    "#num_errors = []\n",
    "for cid, text in tqdm(cid_to_text.items(), total=len(cid_to_text)):\n",
    "    if cid in cid_to_num_errors:\n",
    "        continue\n",
    "    try:\n",
    "        matches = tool.check(text)\n",
    "        ne = len(matches)\n",
    "    except BaseException as e:\n",
    "        ne = float('nan')\n",
    "        print(repr(e))\n",
    "    cid_to_num_errors[cid] = ne    \n",
    "\n",
    "    # num_errors.append(len(matches))"
   ]
  },
  {
   "cell_type": "code",
   "execution_count": 13,
   "id": "681eaa41",
   "metadata": {},
   "outputs": [
    {
     "data": {
      "text/plain": [
       "99440"
      ]
     },
     "execution_count": 13,
     "metadata": {},
     "output_type": "execute_result"
    }
   ],
   "source": [
    "len(cid_to_num_errors)"
   ]
  },
  {
   "cell_type": "code",
   "execution_count": 14,
   "id": "e54d744d",
   "metadata": {},
   "outputs": [],
   "source": [
    "tmp = defaultdict(list)\n",
    "for cid, ne in cid_to_num_errors.items():\n",
    "    tmp['conversation_hash'].append(cid)\n",
    "    tmp['num_grammar_tool_suggestions'].append(ne)\n",
    "tmp = pd.DataFrame(tmp)"
   ]
  },
  {
   "cell_type": "code",
   "execution_count": 16,
   "id": "1cb1e107",
   "metadata": {},
   "outputs": [],
   "source": [
    "outdir = '/shared/0/projects/research-jam-summer-2024/data/english_only/100k_results/with_metrics/'"
   ]
  },
  {
   "cell_type": "code",
   "execution_count": 17,
   "id": "c9d80228",
   "metadata": {},
   "outputs": [],
   "source": [
    "tmp.to_csv(outdir + 'human-turn1.grammar-tool-output.csv', index=False)"
   ]
  },
  {
   "cell_type": "code",
   "execution_count": 18,
   "id": "3a425dd2",
   "metadata": {},
   "outputs": [
    {
     "data": {
      "text/plain": [
       "'/shared/0/projects/research-jam-summer-2024/data/english_only/100k_results/with_metrics/human-turn1.grammar-tool-output.csv'"
      ]
     },
     "execution_count": 18,
     "metadata": {},
     "output_type": "execute_result"
    }
   ],
   "source": [
    "outdir + 'human-turn1.grammar-tool-output.csv'"
   ]
  },
  {
   "cell_type": "code",
   "execution_count": null,
   "id": "afd112cf",
   "metadata": {},
   "outputs": [],
   "source": []
  }
 ],
 "metadata": {
  "kernelspec": {
   "display_name": "Python 3",
   "language": "python",
   "name": "python3"
  },
  "language_info": {
   "codemirror_mode": {
    "name": "ipython",
    "version": 3
   },
   "file_extension": ".py",
   "mimetype": "text/x-python",
   "name": "python",
   "nbconvert_exporter": "python",
   "pygments_lexer": "ipython3",
   "version": "3.11.5"
  }
 },
 "nbformat": 4,
 "nbformat_minor": 5
}
