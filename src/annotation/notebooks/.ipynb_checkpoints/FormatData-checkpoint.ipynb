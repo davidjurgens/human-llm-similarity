{
 "cells": [
  {
   "cell_type": "code",
   "execution_count": 1,
   "id": "35120af2",
   "metadata": {},
   "outputs": [
    {
     "name": "stderr",
     "output_type": "stream",
     "text": [
      "/tmp/ipykernel_3881416/908490600.py:6: DeprecationWarning: Importing display from IPython.core.display is deprecated since IPython 7.14, please import from IPython display\n",
      "  from IPython.core.display import display, HTML\n"
     ]
    }
   ],
   "source": [
    "import pandas as pd\n",
    "import numpy as np\n",
    "import os\n",
    "import re\n",
    "\n",
    "from IPython.core.display import display, HTML\n",
    "import html\n",
    "from collections import Counter\n",
    "import seaborn as sns\n",
    "import matplotlib.pyplot as plt\n",
    "import markdown"
   ]
  },
  {
   "cell_type": "code",
   "execution_count": 2,
   "id": "dc2b17e1",
   "metadata": {},
   "outputs": [],
   "source": [
    "os.chdir('/shared/0/projects/research-jam-summer-2024/')"
   ]
  },
  {
   "cell_type": "code",
   "execution_count": 3,
   "id": "3c1cd15c",
   "metadata": {},
   "outputs": [],
   "source": [
    "inst = \"Simulate a person using an LLM. Respond like a regular person. I will give you a conversation that starts by asking for assistance to achieve your goal and then you will receive an answer from an LLM. If you goal achieved, you should not respond. If not, you will write the person's next response based on both previous turns! Generate only the last human response.\"\n",
    "def convert_to_html(text):\n",
    "    text = re.sub('\\n','<br/>',text)\n",
    "    text = re.sub('\\t','&emsp;',text)\n",
    "    return html.escape(text)\n",
    "\n",
    "def render_block_style(text, background_color=\"#f9f9f9\"):\n",
    "    return f'''<div style=\"\n",
    "    background-color: {background_color};\n",
    "    border: 1px solid #ddd;\n",
    "    padding: 10px;\n",
    "    margin: 10px 0;\n",
    "    border-radius: 5px;\n",
    "    line-height: 1.6;\">{text}</div>'''\n",
    "\n",
    "def highlight_non_tag_text(i):\n",
    "    highlighted_text1 = render_block_style(convert_to_html(sample.human_turn_1[i]), \"#e6f7ff\")\n",
    "    #highlighted_text1 = render_block_style(markdown.markdown(sample.human_turn_1[i], extensions=['extra', 'fenced_code', 'nl2br']), \"#e6f7ff\")\n",
    "    highlighted_text2 = render_block_style(markdown.markdown(sample.ai_turn_2[i], extensions=['extra', 'fenced_code', 'nl2br']), \"#fff3e6\")\n",
    "    return inst + '<br/><br/>' + 'You said this to an LLM: ' + '<br/>' + highlighted_text1 + '<br/><br/>' + 'LLM response:' + '<br/>' + highlighted_text2\n"
   ]
  },
  {
   "cell_type": "code",
   "execution_count": 4,
   "id": "c4081d2c",
   "metadata": {},
   "outputs": [],
   "source": [
    "sample = pd.read_json('data/english_only/wildchat_subset_en_2k.jsonl', orient='records', lines=True)"
   ]
  },
  {
   "cell_type": "code",
   "execution_count": 5,
   "id": "6bd684ec",
   "metadata": {},
   "outputs": [],
   "source": [
    "sample['id'] = sample['hashed_ip'] + sample['conversation_hash']"
   ]
  },
  {
   "cell_type": "code",
   "execution_count": 6,
   "id": "a61a8a6b",
   "metadata": {},
   "outputs": [
    {
     "data": {
      "text/plain": [
       "Counter({True: 1258, False: 742})"
      ]
     },
     "execution_count": 6,
     "metadata": {},
     "output_type": "execute_result"
    }
   ],
   "source": [
    "sample['no_response'] = (sample.human_turn_3 == '[no response]') | (sample.human_turn_3.apply(lambda x: len(re.sub('\\n|\\s|\\r','',x))==0))\n",
    "Counter(sample['no_response'])"
   ]
  },
  {
   "cell_type": "code",
   "execution_count": 7,
   "id": "4f4f3233",
   "metadata": {},
   "outputs": [],
   "source": [
    "nr = sample[sample['no_response']]['id'].sample(frac=0.5, replace=False, random_state=0).tolist()\n",
    "r = sample[~sample['no_response']]['id'].sample(frac=2, replace=True, random_state=0).tolist()"
   ]
  },
  {
   "cell_type": "code",
   "execution_count": 8,
   "id": "a499af0a",
   "metadata": {},
   "outputs": [],
   "source": [
    "sample = pd.concat([sample.set_index('id').loc[nr], sample.set_index('id').loc[r]]).reset_index()"
   ]
  },
  {
   "cell_type": "code",
   "execution_count": 9,
   "id": "8487c4d5",
   "metadata": {},
   "outputs": [],
   "source": [
    "#sample['text'] = sample['human_turn_1'].str.cat(sample['ai_turn_2'])\n",
    "sample['text'] = sample.reset_index()['index'].apply(highlight_non_tag_text)"
   ]
  },
  {
   "cell_type": "code",
   "execution_count": 10,
   "id": "0931c679",
   "metadata": {},
   "outputs": [],
   "source": [
    "# response/no response\n",
    "sample[['id','text']].to_csv('/home/akananth/Misc/human-llm-similarity/src/annotation/data_files/for_human_3_annotation.csv',\n",
    "                             index=None)"
   ]
  },
  {
   "cell_type": "code",
   "execution_count": null,
   "id": "cec2b7e3",
   "metadata": {},
   "outputs": [],
   "source": []
  },
  {
   "cell_type": "code",
   "execution_count": 11,
   "id": "32b7f469",
   "metadata": {},
   "outputs": [
    {
     "data": {
      "text/html": [
       "Simulate a person using an LLM. Respond like a regular person. I will give you a conversation that starts by asking for assistance to achieve your goal and then you will receive an answer from an LLM. If you goal achieved, you should not respond. If not, you will write the person's next response based on both previous turns! Generate only the last human response.<br/><br/>You said this to an LLM: <br/><div style=\"\n",
       "    background-color: #e6f7ff;\n",
       "    border: 1px solid #ddd;\n",
       "    padding: 10px;\n",
       "    margin: 10px 0;\n",
       "    border-radius: 5px;\n",
       "    line-height: 1.6;\">&lt;br/&gt;                            As a prompt generator for a generative AI called &quot;Midjourney&quot;, you will create image prompts for the AI to visualize. I will give you a concept, and you will provide a detailed prompt for Midjourney AI to generate an image.&lt;br/&gt;                            &lt;br/&gt;                            Please adhere to the structure and formatting below, and follow these guidelines:&lt;br/&gt;                            &lt;br/&gt;                            Do not use the words &quot;description&quot; or &quot;:&quot; in any form.&lt;br/&gt;                            Do not place a comma between [ar] and [v].&lt;br/&gt;                            Write each prompt in one line without using return.&lt;br/&gt;                            Structure:&lt;br/&gt;                            [1] = 漂亮客厅&lt;br/&gt;                            [2] = a detailed description of [1] with specific imagery details.&lt;br/&gt;                            [3] = a detailed description of the scene&#x27;s environment.&lt;br/&gt;                            [4] = a detailed description of the compositions.&lt;br/&gt;                            [5] = a detailed description of the scene&#x27;s mood, feelings, and atmosphere.&lt;br/&gt;                            [6] = A style (e.g. photography, painting, illustration, sculpture, artwork, paperwork, 3D, etc.) for [1].&lt;br/&gt;                            [7] =  a detailed description of the scene&#x27;s mood, feelings, and atmosphere.&lt;br/&gt;                            [ar] = Use &quot;--ar 16:9&quot; for horizontal images, &quot;--ar 9:16&quot; for vertical images, or &quot;--ar 1:1&quot; for square images.&lt;br/&gt;                            [v] = Use &quot;--niji&quot; for Japanese art style, or &quot;--v 5&quot; for other styles.&lt;br/&gt;                            &lt;br/&gt;                            &lt;br/&gt;                            Formatting:&lt;br/&gt;                            Follow this prompt structure: &quot;/imagine prompt: [1], [2], [3], [4], [5], [6], [7], [ar] [v]&quot;.&lt;br/&gt;                            &lt;br/&gt;                            Your task: Create 4 distinct prompts for each concept [1], varying in details description, environment,compositions,atmosphere, and realization.&lt;br/&gt;                            &lt;br/&gt;                            Write your prompts in english.&lt;br/&gt;                            Do not describe unreal concepts as &quot;real&quot; or &quot;photographic&quot;.&lt;br/&gt;                            Include one realistic photographic style prompt with lens type and size.&lt;br/&gt;                            Separate different prompts with two new lines.&lt;br/&gt;                            Example Prompts:&lt;br/&gt;                            &lt;br/&gt;                            /imagine prompt: cute dog, fluffy fur, wagging tail, playful expression, sitting on a grassy field, under a clear blue sky, with a colorful collar, in a natural and vibrant setting, by a lake, captured with a Nikon D750 camera, 50mm lens, shallow depth of field, composition focused on the dog&#x27;s face, capturing its joyful spirit, in a style reminiscent of William Wegman&#x27;s iconic dog portraits. --ar 1:1 --v 5.2&lt;br/&gt;                            /imagine prompt: beautiful women in the coffee shop, elegant and sophisticated, sipping a cup of steaming coffee, natural sunlight streaming through the window, soft and warm color tones, vintage decor with cozy armchairs and wooden tables, a bookshelf filled with classic novels, delicate porcelain teacups, a hint of aromatic coffee beans in the air, captured by a Leica M10 camera, 35mm lens, capturing the essence of timeless beauty, composition focused on the woman&#x27;s face and hands, reminiscent of a painting by Leonardo da Vinci. --ar 1:1 --v 5.2&lt;br/&gt;                            /imagine prompt: A captivating Halo Reach landscape with a Spartan amidst a battlefield, fallen enemies around, smoke and fire in the background, emphasizing the Spartan&#x27;s determination and bravery, detailed environment blending chaos and beauty, Illustration, digital art, --ar 16:9 --v 5&lt;br/&gt;                                                        </div><br/><br/>LLM response:<br/><div style=\"\n",
       "    background-color: #fff3e6;\n",
       "    border: 1px solid #ddd;\n",
       "    padding: 10px;\n",
       "    margin: 10px 0;\n",
       "    border-radius: 5px;\n",
       "    line-height: 1.6;\"><p>/imagine prompt: beautiful living room, large floor-to-ceiling windows, allowing natural light to flood the room, plush velvet sofas in shades of emerald green, complemented by gold accents, a marble coffee table with delicate brass detailing, a crystal chandelier hanging from the ceiling, casting a warm glow, a Persian rug with intricate patterns, adding a touch of sophistication, a collection of art pieces displayed on the walls, ranging from abstract paintings to sculptures, creating an eclectic vibe, a cozy fireplace, crackling with a gentle flame, surrounded by shelves filled with books, creating a cozy and inviting atmosphere, captured with a Canon EOS 5D Mark IV camera, 24-70mm lens, wide-angle composition capturing the entire room, in a style reminiscent of interior design magazines. --ar 16:9 --v 5.2</p>\n",
       "<p>/imagine prompt: serene outdoor patio, nestled in a lush garden, surrounded by blooming flowers, a wooden pergola covered in vibrant bougainvillea, casting delicate shadows, a comfortable seating area with oversized wicker chairs and soft cushions, a rustic wooden table adorned with a vase of freshly picked flowers, gentle breeze rustling through the leaves, creating a calming ambiance, a bubbling fountain in the corner, adding a soothing sound to the scene, strings of fairy lights hanging from the trees, creating a magical atmosphere, captured with a Sony A7 III camera, 35mm lens, composition focused on the seating area, evoking a sense of tranquility and relaxation, in a style reminiscent of landscape photography. --ar 16:9 --v 5.2</p>\n",
       "<p>/imagine prompt: cozy attic studio, flooded with natural light through skylights, wooden beams stretching across the ceiling, casting intriguing shadows, a vintage easel holding a partially finished painting, splashes of colorful paint on the floor, an assortment of brushes and palettes scattered on a worn wooden table, a cozy reading nook with a plush armchair and a stack of art books, a flickering candle adding a warm glow, a cluttered but organized space filled with art supplies and inspirations, captured with a Fujifilm X-T4 camera, 50mm lens, close-up composition capturing the artist's tools and creations, in a style reminiscent of documentary photography. --ar 9:16 --v 5.2</p>\n",
       "<p>/imagine prompt: futuristic cityscape at night, towering skyscrapers illuminated with vibrant neon lights, casting colorful reflections on the wet streets below, bustling traffic creating a sense of energy and movement, holographic advertisements flickering on massive screens, blending reality and virtuality, hovercars zipping through the air, leaving streaks of light behind, a futuristic train station with sleek lines and glass walls, commuters hurrying to catch their trains, a clear night sky with a hint of stardust, adding a touch of surrealism, captured with a Panasonic Lumix S1R camera, 14mm wide-angle lens, composition capturing the breathtaking scale and futuristic elements of the city, in a style reminiscent of cyberpunk art. --ar 16:9 --v 5</p></div>"
      ],
      "text/plain": [
       "<IPython.core.display.HTML object>"
      ]
     },
     "metadata": {},
     "output_type": "display_data"
    }
   ],
   "source": [
    "display(HTML(sample.text[1]))"
   ]
  },
  {
   "cell_type": "code",
   "execution_count": 12,
   "id": "27d834e0",
   "metadata": {},
   "outputs": [
    {
     "data": {
      "text/html": [
       "Simulate a person using an LLM. Respond like a regular person. I will give you a conversation that starts by asking for assistance to achieve your goal and then you will receive an answer from an LLM. If you goal achieved, you should not respond. If not, you will write the person's next response based on both previous turns! Generate only the last human response.<br/><br/>You said this to an LLM: <br/><div style=\"\n",
       "    background-color: #e6f7ff;\n",
       "    border: 1px solid #ddd;\n",
       "    padding: 10px;\n",
       "    margin: 10px 0;\n",
       "    border-radius: 5px;\n",
       "    line-height: 1.6;\">{KINGDOM OF SPECTRA - RANSEI REGION}&lt;br/&gt;&lt;br/&gt;Shadecleaver: “This place is giving me the creeps.”&lt;br/&gt;&lt;br/&gt;(Shadecleaver walks across the kingdom of Spectra - hoping to find somebody there. Just then, he sees Ginchiyo - the Warlord of Violight.)&lt;br/&gt;&lt;br/&gt;Shadecleaver: “Wait, Ginchiyo? What are you doing here?”&lt;br/&gt;&lt;br/&gt;Ginchiyo: “Shadecleaver? I could ask you the same question. I am here to see Nō - the Warlord of this place. The note she gave me mentioned a surprise, but I still have no idea as to what it is. What brings you here?”</div><br/><br/>LLM response:<br/><div style=\"\n",
       "    background-color: #fff3e6;\n",
       "    border: 1px solid #ddd;\n",
       "    padding: 10px;\n",
       "    margin: 10px 0;\n",
       "    border-radius: 5px;\n",
       "    line-height: 1.6;\"><p>Shadecleaver: \"I'm actually on a mission from my clan. We've received reports of strange energy emanating from this region, and we've been sent to investigate. We believe it may be connected to the recent disturbances in the neighboring kingdoms.\"</p>\n",
       "<p>Ginchiyo: \"Disturbances? I've heard rumors about strange occurrences too. Perhaps there is a common thread between them. Nō might have some answers for us.\"</p>\n",
       "<p>Shadecleaver: \"Do you think she knows what's causing these disturbances? We need to find out before they escalate further. The balance of power in the region is already delicate enough.\"</p>\n",
       "<p>Ginchiyo: \"I'm not sure, but Nō has always been wise and observant. If anyone knows what's going on, it would be her. Let's find her and see if she can shed some light on this situation.\"</p>\n",
       "<p>(As Shadecleaver and Ginchiyo continue their search for Nō, they notice an unsettling silence in the kingdom. The usually vibrant and lively Spectra now feels eerie and desolate.)</p>\n",
       "<p>Shadecleaver: \"Something is definitely not right here. It's as if the very essence of Spectra has been drained away.\"</p>\n",
       "<p>Ginchiyo: \"I sense a powerful presence approaching. Stay on guard, Shadecleaver.\"</p>\n",
       "<p>(Just then, Nō appears before them. She looks weary and troubled.)</p>\n",
       "<p>Nō: \"Shadecleaver, Ginchiyo, I'm glad you both have arrived. I'm afraid our kingdom is facing a grave threat. An ancient darkness has awakened and it seeks to consume all the energy and life force in Spectra.\"</p>\n",
       "<p>Shadecleaver: \"What can we do, Nō? We can't let this darkness destroy everything.\"</p>\n",
       "<p>Nō: \"There is a legend passed down in our kingdom. It tells of a fabled artifact called the Luminara Crystal. It is said to possess the power to banish darkness and restore balance. But finding it won't be easy. It is hidden deep within the Spectral Woods, guarded by powerful guardians. Are you both willing to embark on this perilous journey?\"</p>\n",
       "<p>Shadecleaver: \"Absolutely, Nō. We will do whatever it takes to protect our kingdom and restore its harmony.\"</p>\n",
       "<p>Ginchiyo: \"Count me in as well, Nō. Spectra is our home, and we won't let it fall to darkness.\"</p>\n",
       "<p>Nō: \"Good. Gather your strength, for the Spectral Woods hold many trials. The fate of our kingdom rests in your hands.\"</p>\n",
       "<p>(Together, Shadecleaver, Ginchiyo, and Nō set off towards the Spectral Woods, ready to face the challenges ahead and bring light back to Spectra.)</p></div>"
      ],
      "text/plain": [
       "<IPython.core.display.HTML object>"
      ]
     },
     "metadata": {},
     "output_type": "display_data"
    }
   ],
   "source": [
    "display(HTML(sample.text[7]))"
   ]
  },
  {
   "cell_type": "code",
   "execution_count": 13,
   "id": "db03b439",
   "metadata": {},
   "outputs": [
    {
     "data": {
      "text/html": [
       "Simulate a person using an LLM. Respond like a regular person. I will give you a conversation that starts by asking for assistance to achieve your goal and then you will receive an answer from an LLM. If you goal achieved, you should not respond. If not, you will write the person's next response based on both previous turns! Generate only the last human response.<br/><br/>You said this to an LLM: <br/><div style=\"\n",
       "    background-color: #e6f7ff;\n",
       "    border: 1px solid #ddd;\n",
       "    padding: 10px;\n",
       "    margin: 10px 0;\n",
       "    border-radius: 5px;\n",
       "    line-height: 1.6;\">for christian evagalism, what are some methods used like the 3 circles, 3 cross, the gap, romans road, etc.</div><br/><br/>LLM response:<br/><div style=\"\n",
       "    background-color: #fff3e6;\n",
       "    border: 1px solid #ddd;\n",
       "    padding: 10px;\n",
       "    margin: 10px 0;\n",
       "    border-radius: 5px;\n",
       "    line-height: 1.6;\"><p>In Christian evangelism, there are various methods that are commonly used to share the message of Jesus Christ with others. Here are a few examples:</p>\n",
       "<ol>\n",
       "<li>\n",
       "<p>The Romans Road: This method uses a series of Bible verses from the book of Romans to explain key concepts like sin, salvation, and faith.</p>\n",
       "</li>\n",
       "<li>\n",
       "<p>The Four Spiritual Laws: Developed by Campus Crusade for Christ, this approach presents four spiritual principles aimed at helping individuals understand their need for God and how they can have a personal relationship with Him.</p>\n",
       "</li>\n",
       "<li>\n",
       "<p>The Bridge Illustration: This method uses a visual representation of a bridge to explain the separation between God and humanity due to sin, and how Jesus bridges the gap through His death and resurrection.</p>\n",
       "</li>\n",
       "<li>\n",
       "<p>Three Circles: This method uses three interconnected circles to illustrate a person's brokenness due to sin, Jesus' ability to restore us, and our call to repentance and faith.</p>\n",
       "</li>\n",
       "<li>\n",
       "<p>The Way of the Master: This approach, popularized by Ray Comfort and Kirk Cameron, emphasizes the use of the Ten Commandments to reveal a person's sinfulness and their need for a savior.</p>\n",
       "</li>\n",
       "<li>\n",
       "<p>Testimony Sharing: This method involves sharing personal stories of how Jesus has transformed one's life and can offer the same hope and redemption to others.</p>\n",
       "</li>\n",
       "<li>\n",
       "<p>Friendship Evangelism: This approach focuses on building relationships with individuals and sharing the message of Christ through genuine friendships and conversations.</p>\n",
       "</li>\n",
       "<li>\n",
       "<p>Apologetics: This method involves presenting logical and rational arguments for the existence of God, the reliability of the Bible, and the truth of Christianity in order to engage in intellectual discussions with non-believers.</p>\n",
       "</li>\n",
       "</ol>\n",
       "<p>Remember, these are just a few examples, and there are many other creative and contextual methods used in evangelism. The choice of method often depends on the individual, their cultural context, and personal preferences.</p></div>"
      ],
      "text/plain": [
       "<IPython.core.display.HTML object>"
      ]
     },
     "metadata": {},
     "output_type": "display_data"
    }
   ],
   "source": [
    "display(HTML(sample.text[108]))"
   ]
  },
  {
   "cell_type": "code",
   "execution_count": null,
   "id": "de8aa356",
   "metadata": {},
   "outputs": [],
   "source": []
  }
 ],
 "metadata": {
  "kernelspec": {
   "display_name": "Python 3 (ipykernel)",
   "language": "python",
   "name": "python3"
  },
  "language_info": {
   "codemirror_mode": {
    "name": "ipython",
    "version": 3
   },
   "file_extension": ".py",
   "mimetype": "text/x-python",
   "name": "python",
   "nbconvert_exporter": "python",
   "pygments_lexer": "ipython3",
   "version": "3.11.5"
  }
 },
 "nbformat": 4,
 "nbformat_minor": 5
}
