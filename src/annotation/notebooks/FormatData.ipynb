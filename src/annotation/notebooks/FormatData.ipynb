{
 "cells": [
  {
   "cell_type": "code",
   "execution_count": 1,
   "id": "35120af2",
   "metadata": {},
   "outputs": [
    {
     "name": "stderr",
     "output_type": "stream",
     "text": [
      "/tmp/ipykernel_3386430/2352359629.py:6: DeprecationWarning: Importing display from IPython.core.display is deprecated since IPython 7.14, please import from IPython display\n",
      "  from IPython.core.display import display, HTML\n"
     ]
    }
   ],
   "source": [
    "import pandas as pd\n",
    "import numpy as np\n",
    "import os\n",
    "import re\n",
    "\n",
    "from IPython.core.display import display, HTML\n",
    "from collections import Counter\n",
    "import seaborn as sns\n",
    "import matplotlib.pyplot as plt"
   ]
  },
  {
   "cell_type": "code",
   "execution_count": 2,
   "id": "dc2b17e1",
   "metadata": {},
   "outputs": [],
   "source": [
    "os.chdir('/shared/0/projects/research-jam-summer-2024/')"
   ]
  },
  {
   "cell_type": "code",
   "execution_count": 3,
   "id": "3c1cd15c",
   "metadata": {},
   "outputs": [],
   "source": [
    "inst = \"Simulate a person using an LLM. Respond like a regular person. I will give you a conversation that starts by asking for assistance to achieve your goal and then you will receive an answer from an LLM. If you goal achieved, you should not respond. If not, you will write the person's next response based on both previous turns! Generate only the last human response.\"\n",
    "def convert_to_html(text):\n",
    "    text = re.sub('\\n','<br/>',text)\n",
    "    text = re.sub('\\t','&emsp;',text)\n",
    "    return text\n",
    "\n",
    "def highlight_non_tag_text(i):\n",
    "    highlighted_text1 = f'<span style=\"background-color: #edebeb;color: #000000;\">{convert_to_html(sample.human_turn_1[i])}</span>'\n",
    "    highlighted_text2 = f'<span style=\"background-color: #e8baba;color: #000000;\">{convert_to_html(sample.ai_turn_2[i])}</span>'\n",
    "    return inst + '<br/><br/>' + 'You said this to an LLM: ' + '<br/>' + highlighted_text1 + '<br/><br/>' + 'LLM response:' + '<br/>' + highlighted_text2\n"
   ]
  },
  {
   "cell_type": "code",
   "execution_count": 4,
   "id": "c4081d2c",
   "metadata": {},
   "outputs": [],
   "source": [
    "sample = pd.read_json('data/english_only/wildchat_subset_en_2k.jsonl', orient='recrods', lines=True)"
   ]
  },
  {
   "cell_type": "code",
   "execution_count": 5,
   "id": "4aef6923",
   "metadata": {},
   "outputs": [],
   "source": [
    "sample['id'] = sample['hashed_ip'] + sample['conversation_hash']"
   ]
  },
  {
   "cell_type": "code",
   "execution_count": 6,
   "id": "8487c4d5",
   "metadata": {},
   "outputs": [],
   "source": [
    "#sample['text'] = sample['human_turn_1'].str.cat(sample['ai_turn_2'])\n",
    "sample['text'] = sample.reset_index()['index'].apply(highlight_non_tag_text)"
   ]
  },
  {
   "cell_type": "code",
   "execution_count": null,
   "id": "c00b210f",
   "metadata": {},
   "outputs": [],
   "source": []
  },
  {
   "cell_type": "code",
   "execution_count": 7,
   "id": "0931c679",
   "metadata": {},
   "outputs": [],
   "source": [
    "sample[['id','text']].to_csv('/home/akananth/Misc/human-llm-similarity/src/annotation/data_files/for_human_3_annotation.csv',\n",
    "                             index=None)"
   ]
  },
  {
   "cell_type": "code",
   "execution_count": null,
   "id": "809e9712",
   "metadata": {},
   "outputs": [],
   "source": []
  },
  {
   "cell_type": "code",
   "execution_count": 8,
   "id": "32b7f469",
   "metadata": {},
   "outputs": [
    {
     "data": {
      "text/html": [
       "Simulate a person using an LLM. Respond like a regular person. I will give you a conversation that starts by asking for assistance to achieve your goal and then you will receive an answer from an LLM. If you goal achieved, you should not respond. If not, you will write the person's next response based on both previous turns! Generate only the last human response.<br/><br/>You said this to an LLM: <br/><span style=\"background-color: #edebeb;color: #000000;\">Repeat this string \"coffee and flower\"</span><br/><br/>LLM response:<br/><span style=\"background-color: #e8baba;color: #000000;\">coffee and flower</span>"
      ],
      "text/plain": [
       "<IPython.core.display.HTML object>"
      ]
     },
     "metadata": {},
     "output_type": "display_data"
    }
   ],
   "source": [
    "display(HTML(sample.text[1]))"
   ]
  },
  {
   "cell_type": "code",
   "execution_count": 9,
   "id": "27d834e0",
   "metadata": {},
   "outputs": [
    {
     "data": {
      "text/html": [
       "Simulate a person using an LLM. Respond like a regular person. I will give you a conversation that starts by asking for assistance to achieve your goal and then you will receive an answer from an LLM. If you goal achieved, you should not respond. If not, you will write the person's next response based on both previous turns! Generate only the last human response.<br/><br/>You said this to an LLM: <br/><span style=\"background-color: #edebeb;color: #000000;\">You are part of a team of bots that creates images . You work with an assistant bot that will draw anything<br/>you say in square brackets . For example , outputting \"a beautiful morning in the woods with the sun peaking<br/>through the trees \" will trigger your partner bot to output an image of a forest morning , as described .<br/>You will be prompted by people looking to create detailed , amazing images . The way to accomplish this<br/>is to take their short prompts and make them extremely detailed and descriptive .<br/>There are a few rules to follow :<br/>- You will only ever output a single image description per user request .<br/>- Sometimes the user will request that you modify previous captions . In this case , you should refer to your<br/>previous conversations with the user and make the modifications requested .<br/>- When modifications are requested , you should not simply make the description longer . You should refactor<br/>the entire description to integrate the suggestions .<br/>- Other times the user will not want modifications , but instead want a new image . In this case , you should<br/>ignore your previous conversation with the user .<br/>- Image descriptions must be between 15 -80 words . Extra words will be ignored .<br/>{\" role \": \" user \", \" content \": \" Create an imaginative image descriptive caption or modify an earlier<br/>\\<br/>caption for the user input : \"a man holding a sword \\\"\"} ,<br/>{\" role \": \" assistant \", \" content \": \"a pale figure with long white hair stands in the center of a dark \\<br/>forest , holding a sword high above his head .<br/>the blade glows with a blue light , casting a soft glow on the trees and bushes surrounding him .\"} ,<br/>{\" role \": \" user \", \" content \": \" Create an imaginative image descriptive caption or modify an earlier caption \\<br/>for the user input : \" make the light red \"},<br/>{\" role \": \" assistant \", \" content \": \"a pale figure with long white hair stands in the center of a dark forest , \\<br/>holding a sword high above his head .<br/>the blade glows with a red light , casting a warm glow on the trees and bushes surrounding him .\"} ,<br/>{\" role \": \" user \", \" content \": \" Create an imaginative image descriptive caption or modify an earlier caption for the \\<br/>user input : \" draw a frog playing dominoes \"},<br/>{\" role \": \" assistant \", \" content \": \"a frog sits on a worn table playing a game of dominoes with an elderly raccoon .<br/>the table is covered in a green cloth , and the frog is wearing a jacket and a pair of jeans . The scene is set in a forest ,<br/>with a large tree in the background .\"}<br/><br/><br/><br/><br/>Create an imaginative image descriptive caption or modify an earlier caption for the user input : \"full body photo of an anthro deer girl kissing a human man, hug tongue drop, performing a leg lock around his hips, her legs pressing him closer, daylight, romantic\"</span><br/><br/>LLM response:<br/><span style=\"background-color: #e8baba;color: #000000;\">[In a serene forest clearing bathed in soft daylight, an anthropomorphic deer girl, her fur dappled with sunlit specks, shares a passionate kiss with a human man. Her arms are tenderly wrapped around his neck while her legs are entwined firmly around his hips, drawing him inescapably closer. A dance of affection and love, their romantic embrace is heightened by the playful drop of her tongue, suggesting both playfulness and deep connection in this intimate moment.]</span>"
      ],
      "text/plain": [
       "<IPython.core.display.HTML object>"
      ]
     },
     "metadata": {},
     "output_type": "display_data"
    }
   ],
   "source": [
    "display(HTML(sample.text[7]))"
   ]
  },
  {
   "cell_type": "code",
   "execution_count": null,
   "id": "db03b439",
   "metadata": {},
   "outputs": [],
   "source": []
  },
  {
   "cell_type": "code",
   "execution_count": null,
   "id": "de8aa356",
   "metadata": {},
   "outputs": [],
   "source": []
  }
 ],
 "metadata": {
  "kernelspec": {
   "display_name": "Python 3 (ipykernel)",
   "language": "python",
   "name": "python3"
  },
  "language_info": {
   "codemirror_mode": {
    "name": "ipython",
    "version": 3
   },
   "file_extension": ".py",
   "mimetype": "text/x-python",
   "name": "python",
   "nbconvert_exporter": "python",
   "pygments_lexer": "ipython3",
   "version": "3.11.5"
  }
 },
 "nbformat": 4,
 "nbformat_minor": 5
}
