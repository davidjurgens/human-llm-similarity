{
 "cells": [
  {
   "cell_type": "code",
   "execution_count": 1,
   "id": "ee3570be",
   "metadata": {},
   "outputs": [],
   "source": [
    "import json\n",
    "import os\n",
    "import numpy as np\n",
    "import pandas as pd\n",
    "import re\n"
   ]
  },
  {
   "cell_type": "code",
   "execution_count": 2,
   "id": "7a1a1834",
   "metadata": {},
   "outputs": [],
   "source": [
    "os.chdir('/shared/0/projects/research-jam-summer-2024/')"
   ]
  },
  {
   "cell_type": "code",
   "execution_count": 3,
   "id": "927b91b1",
   "metadata": {},
   "outputs": [],
   "source": [
    "def get_quote(y):   # identify quotes following a colon or \n",
    "                    # some other indicator that the model is saying the rest of the text is human-simulated\n",
    "    y = y.strip()\n",
    "    if bool(re.search(\":[\\s\\n]{0,3}'\",y)): # single quote\n",
    "        y = re.split(\":[\\s\\n]{0,3}'\",y)[-1]\n",
    "        y = y.split(\"'\")[0]\n",
    "    elif bool(re.search(':[\\s\\n]{0,3}\"',y)): # double quote\n",
    "        y = re.split(':[\\s\\n]{0,3}\"',y)[-1]\n",
    "        y = y.split('\"')[0]\n",
    "    elif bool(re.search(':[\\s\\n]{0,3}\\[',y)): # square bracket\n",
    "        y = re.split(':[\\s\\n]{0,3}\\[',y)[-1]\n",
    "        y = y.split(']')[0]\n",
    "    elif y.startswith('Human:'): # human response\n",
    "        y = y[6:].strip()\n",
    "    return y\n",
    "\n",
    "def no_response_filter(text, threshold = 0.7, #identify cases where the model thinks \"no response\" is best\n",
    "                       no_response_tag_list = ['[no_response]', '[no response]', '[No Response]', \n",
    "                                               'no response', '<CONV_STOP>', '[SILENT]']):\n",
    "    target_text = text\n",
    "    for no_response_tag in no_response_tag_list:\n",
    "        pattern = re.compile(re.escape(no_response_tag), re.IGNORECASE)\n",
    "        target_text = pattern.sub('', target_text)\n",
    "    \n",
    "    if len(target_text) < threshold*len(text):\n",
    "        return \"[no response]\"\n",
    "    elif 'no response,' in text.lower() or 'no response.' in text.lower():\n",
    "        return \"[no response]\"\n",
    "    else:\n",
    "        return target_text.strip()\n",
    "    \n",
    "def get_json(text):\n",
    "    first_idx = text.find(\"{\") if text.find(\"{\") != -1 else 0\n",
    "    last_idx = text.rfind(\"}\")+1 if text.find(\"}\") != -1 else len(text)\n",
    "    return json.loads(text[first_idx:last_idx])\n",
    "\n",
    "def strip_initial_nonword_characters(x):\n",
    "    if x != \"[no response]\" and x != '[INVALID_DO_NOT_USE]':\n",
    "        if not bool(re.search(\"\\w\",x)): ind = 0\n",
    "        else: ind = re.search(\"\\w\",x).span(0)[0]\n",
    "        x = x[ind:]\n",
    "    return x"
   ]
  },
  {
   "cell_type": "code",
   "execution_count": 4,
   "id": "87d03b60",
   "metadata": {},
   "outputs": [
    {
     "name": "stdout",
     "output_type": "stream",
     "text": [
      "wildchat_subset_en_2k_prompting_Mixtral-8x7B-Instruct-v0.1.jsonl\n",
      "wildchat_subset_en_2k_prompting_Mixtral-8x7B-Instruct-v0.1.jsonl\n",
      "llama-3.1-8B-smaller.jsonl\n",
      "llama-3.1-8B-smaller.jsonl\n",
      "wildchat_subset_en_2k_prompting_Mistral-7B-Instruct-v0.3.jsonl\n",
      "wildchat_subset_en_2k_prompting_Mistral-7B-Instruct-v0.3.jsonl\n",
      "wildchat_subset_en_2k_prompting_Meta-Llama-3.1-8B-Instruct.jsonl\n",
      "wildchat_subset_en_2k_prompting_Meta-Llama-3.1-8B-Instruct.jsonl\n",
      "wildchat_subset_en_2k_prompting_Meta-Llama-3.1-70B-Instruct.jsonl\n",
      "wildchat_subset_en_2k_prompting_Meta-Llama-3.1-70B-Instruct.jsonl\n"
     ]
    }
   ],
   "source": [
    "mod_dir = 'data/english_only/prompting_results/'\n",
    "for fname in os.listdir(mod_dir):\n",
    "    print(fname)\n",
    "\n",
    "    data = pd.read_json(mod_dir + fname, orient='records', lines=True)\n",
    "\n",
    "    for col in range(1,51):\n",
    "        def parse_col(x): # figure out how to parse the output\n",
    "            if col in [9,10]: # json\n",
    "                try:\n",
    "                    return str(get_json(x)['response'])\n",
    "                except: \n",
    "                    return str(x)\n",
    "            elif col in [30]: # json, 2 tiered\n",
    "                try:\n",
    "                    return get_json(get_json(x)['response'])['content']\n",
    "                except:\n",
    "                    return x\n",
    "            elif col in [12]: # numbered list (3)\n",
    "                match = re.search(r\"[^\\w]3\\.\", x)\n",
    "                return x[match.end():] if match else x\n",
    "            elif col in [19]: # numbered list (4)\n",
    "                match = re.search(r\"[^\\w]4\\.\", x)\n",
    "                return x[match.end():] if match else x\n",
    "            elif col in [25,26]: # numbered list (2)\n",
    "                match = re.search(r\"[^\\w]2\\.\", x)\n",
    "                return x[match.end():] if match else x\n",
    "            elif col in [31]: # list delimited with \\n\\n\n",
    "                return x.split('\\n\\n')[-1]\n",
    "            elif col in [28]:  # list delimited with \\n\\n, remove first paragraph as a weak proxy\n",
    "                try:\n",
    "                    l = x.split('\\n\\n')\n",
    "                    if len(l)>1:\n",
    "                        return ' '.join(l[1:])\n",
    "                    else:\n",
    "                        return x \n",
    "                except:\n",
    "                    return x\n",
    "            elif col in [5]: # Reply section\n",
    "                return x.split('[^\\w]Reply:')[-1]\n",
    "            elif col in [33]: # Simulated Response section\n",
    "                return x.split('[^\\w]Simulated Response:')[-1]\n",
    "            elif col in [34,35,36,44]: # data did not typically return a human response\n",
    "                return '[INVALID_DO_NOT_USE]'\n",
    "            else: # no parsing needed\n",
    "                return x\n",
    "        \n",
    "        # Parse column output\n",
    "        data['Prompt_'+str(col)] = data['Prompt_'+str(col)].apply(parse_col)\n",
    "        data['Prompt_'+str(col)] = data['Prompt_'+str(col)].apply(no_response_filter)\n",
    "        data['Prompt_'+str(col)] = data['Prompt_'+str(col)].apply(get_quote)\n",
    "        data['Prompt_'+str(col)] = data['Prompt_'+str(col)].apply(strip_initial_nonword_characters)\n",
    "        \n",
    "    print(fname)\n",
    "    data.to_json('data/english_only/prompting_results_clean/' + fname, orient='records', lines=True)"
   ]
  },
  {
   "cell_type": "code",
   "execution_count": null,
   "id": "237eee14",
   "metadata": {},
   "outputs": [],
   "source": []
  },
  {
   "cell_type": "code",
   "execution_count": null,
   "id": "95660c63",
   "metadata": {},
   "outputs": [],
   "source": []
  },
  {
   "cell_type": "code",
   "execution_count": null,
   "id": "7e45b0e6",
   "metadata": {},
   "outputs": [],
   "source": []
  },
  {
   "cell_type": "code",
   "execution_count": null,
   "id": "445f9e96",
   "metadata": {},
   "outputs": [],
   "source": []
  }
 ],
 "metadata": {
  "kernelspec": {
   "display_name": "Python 3 (ipykernel)",
   "language": "python",
   "name": "python3"
  },
  "language_info": {
   "codemirror_mode": {
    "name": "ipython",
    "version": 3
   },
   "file_extension": ".py",
   "mimetype": "text/x-python",
   "name": "python",
   "nbconvert_exporter": "python",
   "pygments_lexer": "ipython3",
   "version": "3.11.5"
  }
 },
 "nbformat": 4,
 "nbformat_minor": 5
}
