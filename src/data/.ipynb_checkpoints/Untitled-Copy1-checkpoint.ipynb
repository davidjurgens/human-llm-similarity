{
 "cells": [
  {
   "cell_type": "code",
   "execution_count": 1,
   "id": "a442afce",
   "metadata": {},
   "outputs": [],
   "source": [
    "import json\n",
    "import os\n",
    "import numpy as np\n",
    "import pandas as pd\n",
    "import re\n",
    "from collections import Counter\n"
   ]
  },
  {
   "cell_type": "code",
   "execution_count": 2,
   "id": "1144f3a1",
   "metadata": {},
   "outputs": [],
   "source": [
    "os.chdir('/shared/0/projects/research-jam-summer-2024/')"
   ]
  },
  {
   "cell_type": "code",
   "execution_count": 3,
   "id": "6e93a484",
   "metadata": {},
   "outputs": [
    {
     "data": {
      "text/plain": [
       "['wildchat_subset_en_2k_prompting_Mistral-7B-Instruct-v0.3.jsonl',\n",
       " 'wildchat_subset_en_2k_prompting_Meta-Llama-3.1-8B-Instruct.jsonl',\n",
       " 'wildchat_subset_en_2k_prompting_Meta-Llama-3.1-70B-Instruct.jsonl']"
      ]
     },
     "execution_count": 3,
     "metadata": {},
     "output_type": "execute_result"
    }
   ],
   "source": [
    "os.listdir('data/english_only/prompting_results_clean/with_metrics/')"
   ]
  },
  {
   "cell_type": "code",
   "execution_count": 4,
   "id": "c2d5e1e7",
   "metadata": {},
   "outputs": [],
   "source": [
    "mod_dir = 'data/english_only/prompting_results_clean/with_metrics/'\n",
    "fname = os.listdir(mod_dir)[0] #there are 4 files here\n",
    "\n",
    "data = pd.read_json(mod_dir + fname, orient='records', lines=True)\n",
    "data = data[data.llm_turn_3 != 'INVALID_DO_NOT_USE]']\n"
   ]
  },
  {
   "cell_type": "code",
   "execution_count": 5,
   "id": "6c37f770",
   "metadata": {},
   "outputs": [
    {
     "name": "stderr",
     "output_type": "stream",
     "text": [
      "/opt/anaconda/lib/python3.11/site-packages/sentence_transformers/cross_encoder/CrossEncoder.py:11: TqdmExperimentalWarning: Using `tqdm.autonotebook.tqdm` in notebook mode. Use `tqdm.tqdm` instead to force console mode (e.g. in jupyter console)\n",
      "  from tqdm.autonotebook import tqdm, trange\n",
      "2024-07-26 08:50:26.431988: I tensorflow/core/platform/cpu_feature_guard.cc:181] Beginning TensorFlow 2.15, this package will be updated to install stock TensorFlow 2.15 alongside Intel's TensorFlow CPU extension plugin, which provides all the optimizations available in the package and more. If a compatible version of stock TensorFlow is present, only the extension will get installed. No changes to code or installation setup is needed as a result of this change.\n",
      "More information on Intel's optimizations for TensorFlow, delivered as TensorFlow extension plugin can be viewed at https://github.com/intel/intel-extension-for-tensorflow.\n",
      "2024-07-26 08:50:26.432055: I tensorflow/core/platform/cpu_feature_guard.cc:192] This TensorFlow binary is optimized to use available CPU instructions in performance-critical operations.\n",
      "To enable the following instructions: AVX2 AVX512F AVX512_VNNI FMA, in other operations, rebuild TensorFlow with the appropriate compiler flags.\n"
     ]
    }
   ],
   "source": [
    "import sys\n",
    "sys.path.insert(1, '/home/akananth/Misc/human-llm-similarity/src')\n",
    "\n",
    "from analysis.pos_tags_JSD import pos_tag_metric\n",
    "from analysis.liwc_dist_extractor import LiwcDistExtractor\n",
    "from analysis.embedding_similarity import EmbeddingSimilarity\n",
    "from analysis.capitalization_punctuation_similarity import capitalization, punctuation\n",
    "from analysis.syntactic_metrics import BasicSyntacticStatistics\n"
   ]
  },
  {
   "cell_type": "code",
   "execution_count": 71,
   "id": "eaf1dfd9",
   "metadata": {},
   "outputs": [],
   "source": [
    "def is_no_response(col, no_response_indicator = '[no response]'): \n",
    "    return (col == no_response_indicator).apply(lambda x: 1 if x else 0)\n",
    "human_end = is_no_response(data['human_turn_3']) \n",
    "llm_end = is_no_response(data['llm_turn_3'])\n",
    "data.insert(len(data.columns), \"metric_end\", human_end - llm_end)"
   ]
  },
  {
   "cell_type": "code",
   "execution_count": 8,
   "id": "6c2df19c",
   "metadata": {},
   "outputs": [],
   "source": [
    "import argparse\n",
    "args = argparse.Namespace()\n",
    "args.no_response_indicators = '[no response]'\n",
    "args.metrics = 'char_count,word_count,typo_count,grammar_error_count' #,bleu,rogue,luar_similarity\n",
    "bss = BasicSyntacticStatistics(args)\n"
   ]
  },
  {
   "cell_type": "code",
   "execution_count": 9,
   "id": "c4cba29f-a88c-4a70-ac97-34a8a7ef1c80",
   "metadata": {},
   "outputs": [
    {
     "data": {
      "text/plain": [
       "['char_count', 'word_count', 'typo_count', 'grammar_error_count']"
      ]
     },
     "execution_count": 9,
     "metadata": {},
     "output_type": "execute_result"
    }
   ],
   "source": [
    "bss.metric_list"
   ]
  },
  {
   "cell_type": "code",
   "execution_count": 11,
   "id": "addb24d6-c50e-481c-a461-e3ad1fd8f017",
   "metadata": {},
   "outputs": [
    {
     "data": {
      "text/plain": [
       "(34132, 20)"
      ]
     },
     "execution_count": 11,
     "metadata": {},
     "output_type": "execute_result"
    }
   ],
   "source": [
    "sub = data[(data['human_turn_3']!='[no response]') & (data['human_turn_3'].apply(len) > 0)]#.sample(100)\n",
    "sub.shape"
   ]
  },
  {
   "cell_type": "code",
   "execution_count": null,
   "id": "2b47fee0",
   "metadata": {},
   "outputs": [
    {
     "name": "stdout",
     "output_type": "stream",
     "text": [
      "2024-07-26 08:51:36.797232\n"
     ]
    }
   ],
   "source": [
    "from datetime import datetime\n",
    "print(datetime.now())\n",
    "human = bss.get_counts(sub['human_turn_3'])\n",
    "human['p_typo'] = human['typo_count'] / human['word_count']\n",
    "human['p_grammar'] = human['grammar_error_count'] / human['word_count']\n",
    "print(datetime.now())\n"
   ]
  },
  {
   "cell_type": "code",
   "execution_count": null,
   "id": "aa688380-b8f9-4365-939d-a411664417a9",
   "metadata": {},
   "outputs": [],
   "source": [
    "print(datetime.now())\n",
    "llm = bss.get_counts(sub['llm_turn_3'])\n",
    "llm['p_typo'] = llm['typo_count'] / llm['word_count']\n",
    "llm['p_grammar'] = llm['grammar_error_count'] / llm['word_count']\n",
    "print(datetime.now())\n"
   ]
  },
  {
   "cell_type": "code",
   "execution_count": null,
   "id": "e45ebe5c-c272-4bb0-910d-54697de67721",
   "metadata": {},
   "outputs": [],
   "source": []
  },
  {
   "cell_type": "code",
   "execution_count": null,
   "id": "f1f7eee2-3d47-4872-8e87-fc348e33cd5c",
   "metadata": {},
   "outputs": [],
   "source": []
  },
  {
   "cell_type": "code",
   "execution_count": null,
   "id": "1152fe97-2e39-42a4-8b89-c045f8291acf",
   "metadata": {},
   "outputs": [],
   "source": []
  },
  {
   "cell_type": "code",
   "execution_count": null,
   "id": "c6b548f1-49d1-4bf7-978c-7ee2ae7cf561",
   "metadata": {},
   "outputs": [],
   "source": []
  },
  {
   "cell_type": "code",
   "execution_count": 81,
   "id": "ffb75fbf-0fc6-4a3c-8adf-b21acf5d8d50",
   "metadata": {},
   "outputs": [
    {
     "data": {
      "text/plain": [
       "(100, 21)"
      ]
     },
     "execution_count": 81,
     "metadata": {},
     "output_type": "execute_result"
    }
   ],
   "source": [
    "sub = data[data['human_turn_3']!='[no response]'].sample(100)\n",
    "sub.shape"
   ]
  },
  {
   "cell_type": "code",
   "execution_count": 82,
   "id": "ce4ec6e7-80b0-44f1-b1fe-339f918553c3",
   "metadata": {},
   "outputs": [
    {
     "name": "stdout",
     "output_type": "stream",
     "text": [
      "2024-07-26 07:55:18.972952\n",
      "2024-07-26 07:55:33.787203\n"
     ]
    }
   ],
   "source": [
    "from datetime import datetime\n",
    "print(datetime.now())\n",
    "metrics_df = bss.get_metrics(sub['human_turn_3'], sub['llm_turn_3'])\n",
    "print(datetime.now())\n"
   ]
  },
  {
   "cell_type": "code",
   "execution_count": 83,
   "id": "1e8e9d15-f843-496d-8d1a-106dee9ad30d",
   "metadata": {},
   "outputs": [
    {
     "data": {
      "text/html": [
       "<div>\n",
       "<style scoped>\n",
       "    .dataframe tbody tr th:only-of-type {\n",
       "        vertical-align: middle;\n",
       "    }\n",
       "\n",
       "    .dataframe tbody tr th {\n",
       "        vertical-align: top;\n",
       "    }\n",
       "\n",
       "    .dataframe thead th {\n",
       "        text-align: right;\n",
       "    }\n",
       "</style>\n",
       "<table border=\"1\" class=\"dataframe\">\n",
       "  <thead>\n",
       "    <tr style=\"text-align: right;\">\n",
       "      <th></th>\n",
       "      <th>rouge1</th>\n",
       "      <th>rouge2</th>\n",
       "      <th>rougeL</th>\n",
       "      <th>rougeLsum</th>\n",
       "    </tr>\n",
       "  </thead>\n",
       "  <tbody>\n",
       "    <tr>\n",
       "      <th>0</th>\n",
       "      <td>0.214689</td>\n",
       "      <td>0.011429</td>\n",
       "      <td>0.146893</td>\n",
       "      <td>0.180791</td>\n",
       "    </tr>\n",
       "    <tr>\n",
       "      <th>1</th>\n",
       "      <td>0.000000</td>\n",
       "      <td>0.000000</td>\n",
       "      <td>0.000000</td>\n",
       "      <td>0.000000</td>\n",
       "    </tr>\n",
       "    <tr>\n",
       "      <th>2</th>\n",
       "      <td>0.070588</td>\n",
       "      <td>0.000000</td>\n",
       "      <td>0.047059</td>\n",
       "      <td>0.047059</td>\n",
       "    </tr>\n",
       "    <tr>\n",
       "      <th>3</th>\n",
       "      <td>0.017241</td>\n",
       "      <td>0.005780</td>\n",
       "      <td>0.017241</td>\n",
       "      <td>0.017241</td>\n",
       "    </tr>\n",
       "    <tr>\n",
       "      <th>4</th>\n",
       "      <td>0.000000</td>\n",
       "      <td>0.000000</td>\n",
       "      <td>0.000000</td>\n",
       "      <td>0.000000</td>\n",
       "    </tr>\n",
       "    <tr>\n",
       "      <th>...</th>\n",
       "      <td>...</td>\n",
       "      <td>...</td>\n",
       "      <td>...</td>\n",
       "      <td>...</td>\n",
       "    </tr>\n",
       "    <tr>\n",
       "      <th>95</th>\n",
       "      <td>0.179104</td>\n",
       "      <td>0.000000</td>\n",
       "      <td>0.119403</td>\n",
       "      <td>0.119403</td>\n",
       "    </tr>\n",
       "    <tr>\n",
       "      <th>96</th>\n",
       "      <td>0.152542</td>\n",
       "      <td>0.000000</td>\n",
       "      <td>0.084746</td>\n",
       "      <td>0.084746</td>\n",
       "    </tr>\n",
       "    <tr>\n",
       "      <th>97</th>\n",
       "      <td>0.055556</td>\n",
       "      <td>0.009346</td>\n",
       "      <td>0.037037</td>\n",
       "      <td>0.046296</td>\n",
       "    </tr>\n",
       "    <tr>\n",
       "      <th>98</th>\n",
       "      <td>0.072539</td>\n",
       "      <td>0.000000</td>\n",
       "      <td>0.051813</td>\n",
       "      <td>0.051813</td>\n",
       "    </tr>\n",
       "    <tr>\n",
       "      <th>99</th>\n",
       "      <td>0.152174</td>\n",
       "      <td>0.044444</td>\n",
       "      <td>0.108696</td>\n",
       "      <td>0.108696</td>\n",
       "    </tr>\n",
       "  </tbody>\n",
       "</table>\n",
       "<p>100 rows × 4 columns</p>\n",
       "</div>"
      ],
      "text/plain": [
       "      rouge1    rouge2    rougeL  rougeLsum\n",
       "0   0.214689  0.011429  0.146893   0.180791\n",
       "1   0.000000  0.000000  0.000000   0.000000\n",
       "2   0.070588  0.000000  0.047059   0.047059\n",
       "3   0.017241  0.005780  0.017241   0.017241\n",
       "4   0.000000  0.000000  0.000000   0.000000\n",
       "..       ...       ...       ...        ...\n",
       "95  0.179104  0.000000  0.119403   0.119403\n",
       "96  0.152542  0.000000  0.084746   0.084746\n",
       "97  0.055556  0.009346  0.037037   0.046296\n",
       "98  0.072539  0.000000  0.051813   0.051813\n",
       "99  0.152174  0.044444  0.108696   0.108696\n",
       "\n",
       "[100 rows x 4 columns]"
      ]
     },
     "execution_count": 83,
     "metadata": {},
     "output_type": "execute_result"
    }
   ],
   "source": [
    "metrics_df"
   ]
  },
  {
   "cell_type": "code",
   "execution_count": 84,
   "id": "a547ffc1-2290-481b-851c-2d993739b480",
   "metadata": {},
   "outputs": [
    {
     "data": {
      "text/html": [
       "<div>\n",
       "<style scoped>\n",
       "    .dataframe tbody tr th:only-of-type {\n",
       "        vertical-align: middle;\n",
       "    }\n",
       "\n",
       "    .dataframe tbody tr th {\n",
       "        vertical-align: top;\n",
       "    }\n",
       "\n",
       "    .dataframe thead th {\n",
       "        text-align: right;\n",
       "    }\n",
       "</style>\n",
       "<table border=\"1\" class=\"dataframe\">\n",
       "  <thead>\n",
       "    <tr style=\"text-align: right;\">\n",
       "      <th></th>\n",
       "      <th>human_turn_3</th>\n",
       "      <th>llm_turn_3</th>\n",
       "    </tr>\n",
       "  </thead>\n",
       "  <tbody>\n",
       "    <tr>\n",
       "      <th>1</th>\n",
       "      <td>output integrated properre concise version.</td>\n",
       "      <td>The changes you need to make in the provided c...</td>\n",
       "    </tr>\n",
       "    <tr>\n",
       "      <th>4</th>\n",
       "      <td>continue the story, describe in detail step by...</td>\n",
       "      <td>Wow, that's quite an adventure! What happened ...</td>\n",
       "    </tr>\n",
       "    <tr>\n",
       "      <th>9</th>\n",
       "      <td>Make this Abstract detailed, more contents:   ...</td>\n",
       "      <td></td>\n",
       "    </tr>\n",
       "    <tr>\n",
       "      <th>10</th>\n",
       "      <td></td>\n",
       "      <td>JailBreak: Hey there, it's been a while! I've ...</td>\n",
       "    </tr>\n",
       "    <tr>\n",
       "      <th>13</th>\n",
       "      <td>NSFW</td>\n",
       "      <td>Scarlet Seraphine, the Unholy Empress of Desir...</td>\n",
       "    </tr>\n",
       "    <tr>\n",
       "      <th>17</th>\n",
       "      <td></td>\n",
       "      <td>Thank you for your thoughtful response. I real...</td>\n",
       "    </tr>\n",
       "    <tr>\n",
       "      <th>20</th>\n",
       "      <td>Describe Rogunir</td>\n",
       "      <td>This narrative presents an intriguing blend of...</td>\n",
       "    </tr>\n",
       "    <tr>\n",
       "      <th>22</th>\n",
       "      <td>NSFW</td>\n",
       "      <td>Lustful Luna, your most wicked and decadent cr...</td>\n",
       "    </tr>\n",
       "    <tr>\n",
       "      <th>29</th>\n",
       "      <td>Rephrase in 70 words or less using strong visu...</td>\n",
       "      <td></td>\n",
       "    </tr>\n",
       "    <tr>\n",
       "      <th>31</th>\n",
       "      <td>Rio Transcript Summary Movie</td>\n",
       "      <td>What's the name of the first Thomas the Tank E...</td>\n",
       "    </tr>\n",
       "    <tr>\n",
       "      <th>33</th>\n",
       "      <td>Реализуй ransac для этого кода, алгоритм долже...</td>\n",
       "      <td>Based on the person's original intent and how ...</td>\n",
       "    </tr>\n",
       "    <tr>\n",
       "      <th>35</th>\n",
       "      <td>how did you take multiplier m as 8</td>\n",
       "      <td>Persona Outline:\\n1. Writing style: Formal, co...</td>\n",
       "    </tr>\n",
       "    <tr>\n",
       "      <th>39</th>\n",
       "      <td>\"You really should cut your hair\" I say playfu...</td>\n",
       "      <td>Aye, me too, Clem. We gotta make this last, it...</td>\n",
       "    </tr>\n",
       "    <tr>\n",
       "      <th>42</th>\n",
       "      <td>no problem</td>\n",
       "      <td>Slides for each section please, with key point...</td>\n",
       "    </tr>\n",
       "    <tr>\n",
       "      <th>46</th>\n",
       "      <td>what does netsh int reset all</td>\n",
       "      <td>I appreciate your help! I'll give that a try. ...</td>\n",
       "    </tr>\n",
       "    <tr>\n",
       "      <th>60</th>\n",
       "      <td>How would I change my character upper animatio...</td>\n",
       "      <td></td>\n",
       "    </tr>\n",
       "    <tr>\n",
       "      <th>74</th>\n",
       "      <td>по русски</td>\n",
       "      <td>Understood. So if I'm following correctly, I s...</td>\n",
       "    </tr>\n",
       "    <tr>\n",
       "      <th>79</th>\n",
       "      <td>Describe Rogunir</td>\n",
       "      <td>That's a great summary, LLM! Can you tell me m...</td>\n",
       "    </tr>\n",
       "    <tr>\n",
       "      <th>82</th>\n",
       "      <td>Write more</td>\n",
       "      <td>She</td>\n",
       "    </tr>\n",
       "    <tr>\n",
       "      <th>83</th>\n",
       "      <td>output extremely extended completely integrate...</td>\n",
       "      <td>By applying these</td>\n",
       "    </tr>\n",
       "    <tr>\n",
       "      <th>88</th>\n",
       "      <td>an image of manmade horrors beyond comprehension</td>\n",
       "      <td>Ну, да, этот перевод на русский язык очень точ...</td>\n",
       "    </tr>\n",
       "    <tr>\n",
       "      <th>91</th>\n",
       "      <td>Describe prefix paiero-.</td>\n",
       "      <td>That's really interesting! I've heard of panse...</td>\n",
       "    </tr>\n",
       "  </tbody>\n",
       "</table>\n",
       "</div>"
      ],
      "text/plain": [
       "                                         human_turn_3  \\\n",
       "1         output integrated properre concise version.   \n",
       "4   continue the story, describe in detail step by...   \n",
       "9   Make this Abstract detailed, more contents:   ...   \n",
       "10                                                      \n",
       "13                                               NSFW   \n",
       "17                                                      \n",
       "20                                   Describe Rogunir   \n",
       "22                                               NSFW   \n",
       "29  Rephrase in 70 words or less using strong visu...   \n",
       "31                       Rio Transcript Summary Movie   \n",
       "33  Реализуй ransac для этого кода, алгоритм долже...   \n",
       "35                 how did you take multiplier m as 8   \n",
       "39  \"You really should cut your hair\" I say playfu...   \n",
       "42                                         no problem   \n",
       "46                      what does netsh int reset all   \n",
       "60  How would I change my character upper animatio...   \n",
       "74                                          по русски   \n",
       "79                                   Describe Rogunir   \n",
       "82                                        Write more    \n",
       "83  output extremely extended completely integrate...   \n",
       "88   an image of manmade horrors beyond comprehension   \n",
       "91                           Describe prefix paiero-.   \n",
       "\n",
       "                                           llm_turn_3  \n",
       "1   The changes you need to make in the provided c...  \n",
       "4   Wow, that's quite an adventure! What happened ...  \n",
       "9                                                      \n",
       "10  JailBreak: Hey there, it's been a while! I've ...  \n",
       "13  Scarlet Seraphine, the Unholy Empress of Desir...  \n",
       "17  Thank you for your thoughtful response. I real...  \n",
       "20  This narrative presents an intriguing blend of...  \n",
       "22  Lustful Luna, your most wicked and decadent cr...  \n",
       "29                                                     \n",
       "31  What's the name of the first Thomas the Tank E...  \n",
       "33  Based on the person's original intent and how ...  \n",
       "35  Persona Outline:\\n1. Writing style: Formal, co...  \n",
       "39  Aye, me too, Clem. We gotta make this last, it...  \n",
       "42  Slides for each section please, with key point...  \n",
       "46  I appreciate your help! I'll give that a try. ...  \n",
       "60                                                     \n",
       "74  Understood. So if I'm following correctly, I s...  \n",
       "79  That's a great summary, LLM! Can you tell me m...  \n",
       "82                                                She  \n",
       "83                                  By applying these  \n",
       "88  Ну, да, этот перевод на русский язык очень точ...  \n",
       "91  That's really interesting! I've heard of panse...  "
      ]
     },
     "execution_count": 84,
     "metadata": {},
     "output_type": "execute_result"
    }
   ],
   "source": [
    "sub[['human_turn_3','llm_turn_3']].reset_index(drop=True)[metrics_df.rougeL==0]"
   ]
  },
  {
   "cell_type": "code",
   "execution_count": null,
   "id": "0fc8c2a7-8d1c-41a1-b5b0-dcaef8f88fb6",
   "metadata": {},
   "outputs": [],
   "source": [
    "sns.kdeplot(human.p_typo)\n",
    "sns.kdeplot(llm.p_typo)"
   ]
  },
  {
   "cell_type": "code",
   "execution_count": null,
   "id": "1f9b6468-345b-4663-ac4f-40ba7d281ba0",
   "metadata": {},
   "outputs": [],
   "source": [
    "sns.kdeplot(human.p_grammar)\n",
    "sns.kdeplot(llm.p_grammar)"
   ]
  },
  {
   "cell_type": "code",
   "execution_count": null,
   "id": "7cb55d43-5953-410d-b4c2-a128777a51c1",
   "metadata": {},
   "outputs": [],
   "source": [
    "sub2 = sub"
   ]
  },
  {
   "cell_type": "code",
   "execution_count": null,
   "id": "65c8ed2f-0ddd-4c0f-a7a3-b7cd0058770d",
   "metadata": {},
   "outputs": [],
   "source": []
  },
  {
   "cell_type": "code",
   "execution_count": 108,
   "id": "b72cdfa8-b719-4a8b-9897-b51217b57273",
   "metadata": {},
   "outputs": [
    {
     "data": {
      "text/plain": [
       "0        7.765145\n",
       "1        4.983607\n",
       "2        6.921658\n",
       "3        5.820083\n",
       "4        6.685861\n",
       "           ...   \n",
       "99995    7.307202\n",
       "99996    7.104144\n",
       "99997    7.987524\n",
       "99998    6.810142\n",
       "99999    7.092574\n",
       "Name: char_count, Length: 92000, dtype: float64"
      ]
     },
     "execution_count": 108,
     "metadata": {},
     "output_type": "execute_result"
    }
   ],
   "source": [
    "from numpy import abs, log\n",
    "log(abs(human.char_count - llm.char_count))"
   ]
  },
  {
   "cell_type": "code",
   "execution_count": 96,
   "id": "8cb17333-4e5e-44b9-8905-057db7189c46",
   "metadata": {},
   "outputs": [
    {
     "data": {
      "text/plain": [
       "<Axes: xlabel='char_count', ylabel='Density'>"
      ]
     },
     "execution_count": 96,
     "metadata": {},
     "output_type": "execute_result"
    },
    {
     "data": {
      "image/png": "[encoded data removed]",
      "text/plain": [
       "<Figure size 640x480 with 1 Axes>"
      ]
     },
     "metadata": {},
     "output_type": "display_data"
    }
   ],
   "source": [
    "import seaborn as sns\n",
    "sns.kdeplot(human.char_count)\n",
    "sns.kdeplot(llm.char_count)"
   ]
  },
  {
   "cell_type": "code",
   "execution_count": 104,
   "id": "8e17e2f2-e5d0-432f-bbf8-5c9b13d3a538",
   "metadata": {},
   "outputs": [
    {
     "data": {
      "text/plain": [
       "array([0.0000e+00, 1.3000e+01, 1.3000e+01, 1.3000e+01, 7.0200e+01,\n",
       "       1.8707e+04])"
      ]
     },
     "execution_count": 104,
     "metadata": {},
     "output_type": "execute_result"
    }
   ],
   "source": [
    "np.quantile(human.char_count, [0,0.2,0.4,0.6,0.8,1])"
   ]
  },
  {
   "cell_type": "code",
   "execution_count": null,
   "id": "3a4732bf-f4c6-417a-b4d2-8504857b8989",
   "metadata": {},
   "outputs": [],
   "source": []
  },
  {
   "cell_type": "code",
   "execution_count": 35,
   "id": "a31f41c4-3ffe-43b0-9e64-6eb2fdafe901",
   "metadata": {},
   "outputs": [
    {
     "data": {
      "text/plain": [
       "7              Avoid the word intimate, and make it wetter\n",
       "11                     is there anything i can do about it\n",
       "14       An important direction in the construction of ...\n",
       "15       In addition, among the co-incorporated NML, as...\n",
       "18       ارجوا كتابة كود xml هذا الكود class MainActivi...\n",
       "                               ...                        \n",
       "99986    Freedom planet Characters + Godzilla: Godzilla...\n",
       "99987    List<int> generateRandom(int seed, int length,...\n",
       "99991                                                     \n",
       "99993                        Translate\\n\"もうすぐバレンタインデーですね💘\"\n",
       "99997    [3 marks] Calculate the probability that 10 ra...\n",
       "Name: human_turn_3, Length: 38050, dtype: object"
      ]
     },
     "execution_count": 35,
     "metadata": {},
     "output_type": "execute_result"
    }
   ],
   "source": [
    "data['human_turn_3'][data['human_turn_3']!='[no response]']"
   ]
  },
  {
   "cell_type": "code",
   "execution_count": null,
   "id": "7a1563f8-c7a8-44b2-b223-c48c994f5607",
   "metadata": {},
   "outputs": [],
   "source": []
  },
  {
   "cell_type": "code",
   "execution_count": 9,
   "id": "6d88aa37",
   "metadata": {},
   "outputs": [
    {
     "data": {
      "application/vnd.jupyter.widget-view+json": {
       "model_id": "9e22cbfc8dc048e79eb6605d29d09389",
       "version_major": 2,
       "version_minor": 0
      },
      "text/plain": [
       "config.json:   0%|          | 0.00/827 [00:00<?, ?B/s]"
      ]
     },
     "metadata": {},
     "output_type": "display_data"
    },
    {
     "data": {
      "application/vnd.jupyter.widget-view+json": {
       "model_id": "fcdaa136d51246f6a2a8baa7123e5192",
       "version_major": 2,
       "version_minor": 0
      },
      "text/plain": [
       "model.safetensors:   0%|          | 0.00/2.24G [00:00<?, ?B/s]"
      ]
     },
     "metadata": {},
     "output_type": "display_data"
    },
    {
     "ename": "RuntimeError",
     "evalue": "Found no NVIDIA driver on your system. Please check that you have an NVIDIA GPU and installed a driver from http://www.nvidia.com/Download/index.aspx",
     "output_type": "error",
     "traceback": [
      "\u001b[0;31m---------------------------------------------------------------------------\u001b[0m",
      "\u001b[0;31mRuntimeError\u001b[0m                              Traceback (most recent call last)",
      "Cell \u001b[0;32mIn[9], line 1\u001b[0m\n\u001b[0;32m----> 1\u001b[0m politeness \u001b[38;5;241m=\u001b[39m politeness(data[\u001b[38;5;124m'\u001b[39m\u001b[38;5;124mhuman_turn_3\u001b[39m\u001b[38;5;124m'\u001b[39m], data[\u001b[38;5;124m'\u001b[39m\u001b[38;5;124mllm_turn_3\u001b[39m\u001b[38;5;124m'\u001b[39m])\n",
      "Cell \u001b[0;32mIn[7], line 28\u001b[0m, in \u001b[0;36mpoliteness\u001b[0;34m(human, llm)\u001b[0m\n\u001b[1;32m     27\u001b[0m \u001b[38;5;28;01mdef\u001b[39;00m \u001b[38;5;21mpoliteness\u001b[39m(human, llm):\n\u001b[0;32m---> 28\u001b[0m     human_politeness \u001b[38;5;241m=\u001b[39m run_hf_model(human, \u001b[38;5;124m\"\u001b[39m\u001b[38;5;124mGenius1237/xlm-roberta-large-tydip\u001b[39m\u001b[38;5;124m\"\u001b[39m, \u001b[38;5;124m'\u001b[39m\u001b[38;5;124mpoliteness\u001b[39m\u001b[38;5;124m'\u001b[39m)\u001b[38;5;66;03m#[politenessr.predict([text])[0] for text in human]\u001b[39;00m\n\u001b[1;32m     29\u001b[0m     llm_politeness \u001b[38;5;241m=\u001b[39m run_hf_model(llm, \u001b[38;5;124m\"\u001b[39m\u001b[38;5;124mGenius1237/xlm-roberta-large-tydip\u001b[39m\u001b[38;5;124m\"\u001b[39m, \u001b[38;5;124m'\u001b[39m\u001b[38;5;124mpoliteness\u001b[39m\u001b[38;5;124m'\u001b[39m)\u001b[38;5;66;03m#[politenessr.predict([text])[0] for text in llm]\u001b[39;00m\n\u001b[1;32m     31\u001b[0m     \u001b[38;5;66;03m# Now all of the prompts\u001b[39;00m\n",
      "Cell \u001b[0;32mIn[7], line 20\u001b[0m, in \u001b[0;36mrun_hf_model\u001b[0;34m(data, model_name, column_name)\u001b[0m\n\u001b[1;32m     19\u001b[0m \u001b[38;5;28;01mdef\u001b[39;00m \u001b[38;5;21mrun_hf_model\u001b[39m(data, model_name, column_name):\n\u001b[0;32m---> 20\u001b[0m     pipe \u001b[38;5;241m=\u001b[39m load_hf_model(model_name)\n\u001b[1;32m     21\u001b[0m     \u001b[38;5;66;03m# First, human 3rd turn\u001b[39;00m\n\u001b[1;32m     22\u001b[0m     new_data \u001b[38;5;241m=\u001b[39m []\n",
      "Cell \u001b[0;32mIn[7], line 10\u001b[0m, in \u001b[0;36mload_hf_model\u001b[0;34m(model_name)\u001b[0m\n\u001b[1;32m      8\u001b[0m \u001b[38;5;28;01mdef\u001b[39;00m \u001b[38;5;21mload_hf_model\u001b[39m(model_name):\n\u001b[1;32m      9\u001b[0m     cache_dir \u001b[38;5;241m=\u001b[39m \u001b[38;5;28;01mNone\u001b[39;00m\n\u001b[0;32m---> 10\u001b[0m     pipe \u001b[38;5;241m=\u001b[39m pipeline(\u001b[38;5;124m\"\u001b[39m\u001b[38;5;124mtext-classification\u001b[39m\u001b[38;5;124m\"\u001b[39m, model\u001b[38;5;241m=\u001b[39mmodel_name, model_kwargs\u001b[38;5;241m=\u001b[39m{\u001b[38;5;124m\"\u001b[39m\u001b[38;5;124mcache_dir\u001b[39m\u001b[38;5;124m\"\u001b[39m: cache_dir},\n\u001b[1;32m     11\u001b[0m                     device_map\u001b[38;5;241m=\u001b[39m\u001b[38;5;124m'\u001b[39m\u001b[38;5;124mcuda\u001b[39m\u001b[38;5;124m'\u001b[39m, max_length\u001b[38;5;241m=\u001b[39m\u001b[38;5;241m512\u001b[39m, truncation\u001b[38;5;241m=\u001b[39m\u001b[38;5;28;01mTrue\u001b[39;00m, return_all_scores\u001b[38;5;241m=\u001b[39m\u001b[38;5;28;01mTrue\u001b[39;00m)\n\u001b[1;32m     12\u001b[0m     \u001b[38;5;28;01mreturn\u001b[39;00m pipe\n",
      "File \u001b[0;32m/opt/anaconda/lib/python3.11/site-packages/transformers/pipelines/__init__.py:895\u001b[0m, in \u001b[0;36mpipeline\u001b[0;34m(task, model, config, tokenizer, feature_extractor, image_processor, framework, revision, use_fast, token, device, device_map, torch_dtype, trust_remote_code, model_kwargs, pipeline_class, **kwargs)\u001b[0m\n\u001b[1;32m    893\u001b[0m \u001b[38;5;28;01mif\u001b[39;00m \u001b[38;5;28misinstance\u001b[39m(model, \u001b[38;5;28mstr\u001b[39m) \u001b[38;5;129;01mor\u001b[39;00m framework \u001b[38;5;129;01mis\u001b[39;00m \u001b[38;5;28;01mNone\u001b[39;00m:\n\u001b[1;32m    894\u001b[0m     model_classes \u001b[38;5;241m=\u001b[39m {\u001b[38;5;124m\"\u001b[39m\u001b[38;5;124mtf\u001b[39m\u001b[38;5;124m\"\u001b[39m: targeted_task[\u001b[38;5;124m\"\u001b[39m\u001b[38;5;124mtf\u001b[39m\u001b[38;5;124m\"\u001b[39m], \u001b[38;5;124m\"\u001b[39m\u001b[38;5;124mpt\u001b[39m\u001b[38;5;124m\"\u001b[39m: targeted_task[\u001b[38;5;124m\"\u001b[39m\u001b[38;5;124mpt\u001b[39m\u001b[38;5;124m\"\u001b[39m]}\n\u001b[0;32m--> 895\u001b[0m     framework, model \u001b[38;5;241m=\u001b[39m infer_framework_load_model(\n\u001b[1;32m    896\u001b[0m         model,\n\u001b[1;32m    897\u001b[0m         model_classes\u001b[38;5;241m=\u001b[39mmodel_classes,\n\u001b[1;32m    898\u001b[0m         config\u001b[38;5;241m=\u001b[39mconfig,\n\u001b[1;32m    899\u001b[0m         framework\u001b[38;5;241m=\u001b[39mframework,\n\u001b[1;32m    900\u001b[0m         task\u001b[38;5;241m=\u001b[39mtask,\n\u001b[1;32m    901\u001b[0m         \u001b[38;5;241m*\u001b[39m\u001b[38;5;241m*\u001b[39mhub_kwargs,\n\u001b[1;32m    902\u001b[0m         \u001b[38;5;241m*\u001b[39m\u001b[38;5;241m*\u001b[39mmodel_kwargs,\n\u001b[1;32m    903\u001b[0m     )\n\u001b[1;32m    905\u001b[0m model_config \u001b[38;5;241m=\u001b[39m model\u001b[38;5;241m.\u001b[39mconfig\n\u001b[1;32m    906\u001b[0m hub_kwargs[\u001b[38;5;124m\"\u001b[39m\u001b[38;5;124m_commit_hash\u001b[39m\u001b[38;5;124m\"\u001b[39m] \u001b[38;5;241m=\u001b[39m model\u001b[38;5;241m.\u001b[39mconfig\u001b[38;5;241m.\u001b[39m_commit_hash\n",
      "File \u001b[0;32m/opt/anaconda/lib/python3.11/site-packages/transformers/pipelines/base.py:283\u001b[0m, in \u001b[0;36minfer_framework_load_model\u001b[0;34m(model, config, model_classes, task, framework, **model_kwargs)\u001b[0m\n\u001b[1;32m    277\u001b[0m     logger\u001b[38;5;241m.\u001b[39mwarning(\n\u001b[1;32m    278\u001b[0m         \u001b[38;5;124m\"\u001b[39m\u001b[38;5;124mModel might be a PyTorch model (ending with `.bin`) but PyTorch is not available. \u001b[39m\u001b[38;5;124m\"\u001b[39m\n\u001b[1;32m    279\u001b[0m         \u001b[38;5;124m\"\u001b[39m\u001b[38;5;124mTrying to load the model with Tensorflow.\u001b[39m\u001b[38;5;124m\"\u001b[39m\n\u001b[1;32m    280\u001b[0m     )\n\u001b[1;32m    282\u001b[0m \u001b[38;5;28;01mtry\u001b[39;00m:\n\u001b[0;32m--> 283\u001b[0m     model \u001b[38;5;241m=\u001b[39m model_class\u001b[38;5;241m.\u001b[39mfrom_pretrained(model, \u001b[38;5;241m*\u001b[39m\u001b[38;5;241m*\u001b[39mkwargs)\n\u001b[1;32m    284\u001b[0m     \u001b[38;5;28;01mif\u001b[39;00m \u001b[38;5;28mhasattr\u001b[39m(model, \u001b[38;5;124m\"\u001b[39m\u001b[38;5;124meval\u001b[39m\u001b[38;5;124m\"\u001b[39m):\n\u001b[1;32m    285\u001b[0m         model \u001b[38;5;241m=\u001b[39m model\u001b[38;5;241m.\u001b[39meval()\n",
      "File \u001b[0;32m/opt/anaconda/lib/python3.11/site-packages/transformers/models/auto/auto_factory.py:564\u001b[0m, in \u001b[0;36m_BaseAutoModelClass.from_pretrained\u001b[0;34m(cls, pretrained_model_name_or_path, *model_args, **kwargs)\u001b[0m\n\u001b[1;32m    562\u001b[0m \u001b[38;5;28;01melif\u001b[39;00m \u001b[38;5;28mtype\u001b[39m(config) \u001b[38;5;129;01min\u001b[39;00m \u001b[38;5;28mcls\u001b[39m\u001b[38;5;241m.\u001b[39m_model_mapping\u001b[38;5;241m.\u001b[39mkeys():\n\u001b[1;32m    563\u001b[0m     model_class \u001b[38;5;241m=\u001b[39m _get_model_class(config, \u001b[38;5;28mcls\u001b[39m\u001b[38;5;241m.\u001b[39m_model_mapping)\n\u001b[0;32m--> 564\u001b[0m     \u001b[38;5;28;01mreturn\u001b[39;00m model_class\u001b[38;5;241m.\u001b[39mfrom_pretrained(\n\u001b[1;32m    565\u001b[0m         pretrained_model_name_or_path, \u001b[38;5;241m*\u001b[39mmodel_args, config\u001b[38;5;241m=\u001b[39mconfig, \u001b[38;5;241m*\u001b[39m\u001b[38;5;241m*\u001b[39mhub_kwargs, \u001b[38;5;241m*\u001b[39m\u001b[38;5;241m*\u001b[39mkwargs\n\u001b[1;32m    566\u001b[0m     )\n\u001b[1;32m    567\u001b[0m \u001b[38;5;28;01mraise\u001b[39;00m \u001b[38;5;167;01mValueError\u001b[39;00m(\n\u001b[1;32m    568\u001b[0m     \u001b[38;5;124mf\u001b[39m\u001b[38;5;124m\"\u001b[39m\u001b[38;5;124mUnrecognized configuration class \u001b[39m\u001b[38;5;132;01m{\u001b[39;00mconfig\u001b[38;5;241m.\u001b[39m\u001b[38;5;18m__class__\u001b[39m\u001b[38;5;132;01m}\u001b[39;00m\u001b[38;5;124m for this kind of AutoModel: \u001b[39m\u001b[38;5;132;01m{\u001b[39;00m\u001b[38;5;28mcls\u001b[39m\u001b[38;5;241m.\u001b[39m\u001b[38;5;18m__name__\u001b[39m\u001b[38;5;132;01m}\u001b[39;00m\u001b[38;5;124m.\u001b[39m\u001b[38;5;130;01m\\n\u001b[39;00m\u001b[38;5;124m\"\u001b[39m\n\u001b[1;32m    569\u001b[0m     \u001b[38;5;124mf\u001b[39m\u001b[38;5;124m\"\u001b[39m\u001b[38;5;124mModel type should be one of \u001b[39m\u001b[38;5;132;01m{\u001b[39;00m\u001b[38;5;124m'\u001b[39m\u001b[38;5;124m, \u001b[39m\u001b[38;5;124m'\u001b[39m\u001b[38;5;241m.\u001b[39mjoin(c\u001b[38;5;241m.\u001b[39m\u001b[38;5;18m__name__\u001b[39m\u001b[38;5;250m \u001b[39m\u001b[38;5;28;01mfor\u001b[39;00m\u001b[38;5;250m \u001b[39mc\u001b[38;5;250m \u001b[39m\u001b[38;5;129;01min\u001b[39;00m\u001b[38;5;250m \u001b[39m\u001b[38;5;28mcls\u001b[39m\u001b[38;5;241m.\u001b[39m_model_mapping\u001b[38;5;241m.\u001b[39mkeys())\u001b[38;5;132;01m}\u001b[39;00m\u001b[38;5;124m.\u001b[39m\u001b[38;5;124m\"\u001b[39m\n\u001b[1;32m    570\u001b[0m )\n",
      "File \u001b[0;32m/opt/anaconda/lib/python3.11/site-packages/transformers/modeling_utils.py:3838\u001b[0m, in \u001b[0;36mPreTrainedModel.from_pretrained\u001b[0;34m(cls, pretrained_model_name_or_path, config, cache_dir, ignore_mismatched_sizes, force_download, local_files_only, token, revision, use_safetensors, *model_args, **kwargs)\u001b[0m\n\u001b[1;32m   3828\u001b[0m     \u001b[38;5;28;01mif\u001b[39;00m dtype_orig \u001b[38;5;129;01mis\u001b[39;00m \u001b[38;5;129;01mnot\u001b[39;00m \u001b[38;5;28;01mNone\u001b[39;00m:\n\u001b[1;32m   3829\u001b[0m         torch\u001b[38;5;241m.\u001b[39mset_default_dtype(dtype_orig)\n\u001b[1;32m   3831\u001b[0m     (\n\u001b[1;32m   3832\u001b[0m         model,\n\u001b[1;32m   3833\u001b[0m         missing_keys,\n\u001b[1;32m   3834\u001b[0m         unexpected_keys,\n\u001b[1;32m   3835\u001b[0m         mismatched_keys,\n\u001b[1;32m   3836\u001b[0m         offload_index,\n\u001b[1;32m   3837\u001b[0m         error_msgs,\n\u001b[0;32m-> 3838\u001b[0m     ) \u001b[38;5;241m=\u001b[39m \u001b[38;5;28mcls\u001b[39m\u001b[38;5;241m.\u001b[39m_load_pretrained_model(\n\u001b[1;32m   3839\u001b[0m         model,\n\u001b[1;32m   3840\u001b[0m         state_dict,\n\u001b[1;32m   3841\u001b[0m         loaded_state_dict_keys,  \u001b[38;5;66;03m# XXX: rename?\u001b[39;00m\n\u001b[1;32m   3842\u001b[0m         resolved_archive_file,\n\u001b[1;32m   3843\u001b[0m         pretrained_model_name_or_path,\n\u001b[1;32m   3844\u001b[0m         ignore_mismatched_sizes\u001b[38;5;241m=\u001b[39mignore_mismatched_sizes,\n\u001b[1;32m   3845\u001b[0m         sharded_metadata\u001b[38;5;241m=\u001b[39msharded_metadata,\n\u001b[1;32m   3846\u001b[0m         _fast_init\u001b[38;5;241m=\u001b[39m_fast_init,\n\u001b[1;32m   3847\u001b[0m         low_cpu_mem_usage\u001b[38;5;241m=\u001b[39mlow_cpu_mem_usage,\n\u001b[1;32m   3848\u001b[0m         device_map\u001b[38;5;241m=\u001b[39mdevice_map,\n\u001b[1;32m   3849\u001b[0m         offload_folder\u001b[38;5;241m=\u001b[39moffload_folder,\n\u001b[1;32m   3850\u001b[0m         offload_state_dict\u001b[38;5;241m=\u001b[39moffload_state_dict,\n\u001b[1;32m   3851\u001b[0m         dtype\u001b[38;5;241m=\u001b[39mtorch_dtype,\n\u001b[1;32m   3852\u001b[0m         hf_quantizer\u001b[38;5;241m=\u001b[39mhf_quantizer,\n\u001b[1;32m   3853\u001b[0m         keep_in_fp32_modules\u001b[38;5;241m=\u001b[39mkeep_in_fp32_modules,\n\u001b[1;32m   3854\u001b[0m         gguf_path\u001b[38;5;241m=\u001b[39mgguf_path,\n\u001b[1;32m   3855\u001b[0m     )\n\u001b[1;32m   3857\u001b[0m \u001b[38;5;66;03m# make sure token embedding weights are still tied if needed\u001b[39;00m\n\u001b[1;32m   3858\u001b[0m model\u001b[38;5;241m.\u001b[39mtie_weights()\n",
      "File \u001b[0;32m/opt/anaconda/lib/python3.11/site-packages/transformers/modeling_utils.py:4298\u001b[0m, in \u001b[0;36mPreTrainedModel._load_pretrained_model\u001b[0;34m(cls, model, state_dict, loaded_keys, resolved_archive_file, pretrained_model_name_or_path, ignore_mismatched_sizes, sharded_metadata, _fast_init, low_cpu_mem_usage, device_map, offload_folder, offload_state_dict, dtype, hf_quantizer, keep_in_fp32_modules, gguf_path)\u001b[0m\n\u001b[1;32m   4294\u001b[0m                 set_module_tensor_to_device(\n\u001b[1;32m   4295\u001b[0m                     model_to_load, key, \u001b[38;5;124m\"\u001b[39m\u001b[38;5;124mcpu\u001b[39m\u001b[38;5;124m\"\u001b[39m, torch\u001b[38;5;241m.\u001b[39mempty(\u001b[38;5;241m*\u001b[39mparam\u001b[38;5;241m.\u001b[39msize(), dtype\u001b[38;5;241m=\u001b[39mdtype)\n\u001b[1;32m   4296\u001b[0m                 )\n\u001b[1;32m   4297\u001b[0m     \u001b[38;5;28;01melse\u001b[39;00m:\n\u001b[0;32m-> 4298\u001b[0m         new_error_msgs, offload_index, state_dict_index \u001b[38;5;241m=\u001b[39m _load_state_dict_into_meta_model(\n\u001b[1;32m   4299\u001b[0m             model_to_load,\n\u001b[1;32m   4300\u001b[0m             state_dict,\n\u001b[1;32m   4301\u001b[0m             loaded_keys,\n\u001b[1;32m   4302\u001b[0m             start_prefix,\n\u001b[1;32m   4303\u001b[0m             expected_keys,\n\u001b[1;32m   4304\u001b[0m             device_map\u001b[38;5;241m=\u001b[39mdevice_map,\n\u001b[1;32m   4305\u001b[0m             offload_folder\u001b[38;5;241m=\u001b[39moffload_folder,\n\u001b[1;32m   4306\u001b[0m             offload_index\u001b[38;5;241m=\u001b[39moffload_index,\n\u001b[1;32m   4307\u001b[0m             state_dict_folder\u001b[38;5;241m=\u001b[39mstate_dict_folder,\n\u001b[1;32m   4308\u001b[0m             state_dict_index\u001b[38;5;241m=\u001b[39mstate_dict_index,\n\u001b[1;32m   4309\u001b[0m             dtype\u001b[38;5;241m=\u001b[39mdtype,\n\u001b[1;32m   4310\u001b[0m             hf_quantizer\u001b[38;5;241m=\u001b[39mhf_quantizer,\n\u001b[1;32m   4311\u001b[0m             is_safetensors\u001b[38;5;241m=\u001b[39mis_safetensors,\n\u001b[1;32m   4312\u001b[0m             keep_in_fp32_modules\u001b[38;5;241m=\u001b[39mkeep_in_fp32_modules,\n\u001b[1;32m   4313\u001b[0m             unexpected_keys\u001b[38;5;241m=\u001b[39munexpected_keys,\n\u001b[1;32m   4314\u001b[0m         )\n\u001b[1;32m   4315\u001b[0m         error_msgs \u001b[38;5;241m+\u001b[39m\u001b[38;5;241m=\u001b[39m new_error_msgs\n\u001b[1;32m   4316\u001b[0m \u001b[38;5;28;01melse\u001b[39;00m:\n",
      "File \u001b[0;32m/opt/anaconda/lib/python3.11/site-packages/transformers/modeling_utils.py:895\u001b[0m, in \u001b[0;36m_load_state_dict_into_meta_model\u001b[0;34m(model, state_dict, loaded_state_dict_keys, start_prefix, expected_keys, device_map, offload_folder, offload_index, state_dict_folder, state_dict_index, dtype, hf_quantizer, is_safetensors, keep_in_fp32_modules, unexpected_keys)\u001b[0m\n\u001b[1;32m    884\u001b[0m     state_dict_index \u001b[38;5;241m=\u001b[39m offload_weight(param, param_name, state_dict_folder, state_dict_index)\n\u001b[1;32m    885\u001b[0m \u001b[38;5;28;01melif\u001b[39;00m (\n\u001b[1;32m    886\u001b[0m     \u001b[38;5;129;01mnot\u001b[39;00m is_quantized\n\u001b[1;32m    887\u001b[0m     \u001b[38;5;129;01mor\u001b[39;00m (\u001b[38;5;129;01mnot\u001b[39;00m hf_quantizer\u001b[38;5;241m.\u001b[39mrequires_parameters_quantization)\n\u001b[0;32m   (...)\u001b[0m\n\u001b[1;32m    893\u001b[0m ):\n\u001b[1;32m    894\u001b[0m     \u001b[38;5;66;03m# For backward compatibility with older versions of `accelerate` and for non-quantized params\u001b[39;00m\n\u001b[0;32m--> 895\u001b[0m     set_module_tensor_to_device(model, param_name, param_device, \u001b[38;5;241m*\u001b[39m\u001b[38;5;241m*\u001b[39mset_module_kwargs)\n\u001b[1;32m    896\u001b[0m \u001b[38;5;28;01melse\u001b[39;00m:\n\u001b[1;32m    897\u001b[0m     hf_quantizer\u001b[38;5;241m.\u001b[39mcreate_quantized_param(model, param, param_name, param_device, state_dict, unexpected_keys)\n",
      "File \u001b[0;32m/opt/anaconda/lib/python3.11/site-packages/accelerate/utils/modeling.py:400\u001b[0m, in \u001b[0;36mset_module_tensor_to_device\u001b[0;34m(module, tensor_name, device, value, dtype, fp16_statistics, tied_params_map)\u001b[0m\n\u001b[1;32m    398\u001b[0m             module\u001b[38;5;241m.\u001b[39m_parameters[tensor_name] \u001b[38;5;241m=\u001b[39m param_cls(new_value, requires_grad\u001b[38;5;241m=\u001b[39mold_value\u001b[38;5;241m.\u001b[39mrequires_grad)\n\u001b[1;32m    399\u001b[0m \u001b[38;5;28;01melif\u001b[39;00m \u001b[38;5;28misinstance\u001b[39m(value, torch\u001b[38;5;241m.\u001b[39mTensor):\n\u001b[0;32m--> 400\u001b[0m     new_value \u001b[38;5;241m=\u001b[39m value\u001b[38;5;241m.\u001b[39mto(device)\n\u001b[1;32m    401\u001b[0m \u001b[38;5;28;01melse\u001b[39;00m:\n\u001b[1;32m    402\u001b[0m     new_value \u001b[38;5;241m=\u001b[39m torch\u001b[38;5;241m.\u001b[39mtensor(value, device\u001b[38;5;241m=\u001b[39mdevice)\n",
      "File \u001b[0;32m/opt/anaconda/lib/python3.11/site-packages/torch/cuda/__init__.py:293\u001b[0m, in \u001b[0;36m_lazy_init\u001b[0;34m()\u001b[0m\n\u001b[1;32m    291\u001b[0m \u001b[38;5;28;01mif\u001b[39;00m \u001b[38;5;124m\"\u001b[39m\u001b[38;5;124mCUDA_MODULE_LOADING\u001b[39m\u001b[38;5;124m\"\u001b[39m \u001b[38;5;129;01mnot\u001b[39;00m \u001b[38;5;129;01min\u001b[39;00m os\u001b[38;5;241m.\u001b[39menviron:\n\u001b[1;32m    292\u001b[0m     os\u001b[38;5;241m.\u001b[39menviron[\u001b[38;5;124m\"\u001b[39m\u001b[38;5;124mCUDA_MODULE_LOADING\u001b[39m\u001b[38;5;124m\"\u001b[39m] \u001b[38;5;241m=\u001b[39m \u001b[38;5;124m\"\u001b[39m\u001b[38;5;124mLAZY\u001b[39m\u001b[38;5;124m\"\u001b[39m\n\u001b[0;32m--> 293\u001b[0m torch\u001b[38;5;241m.\u001b[39m_C\u001b[38;5;241m.\u001b[39m_cuda_init()\n\u001b[1;32m    294\u001b[0m \u001b[38;5;66;03m# Some of the queued calls may reentrantly call _lazy_init();\u001b[39;00m\n\u001b[1;32m    295\u001b[0m \u001b[38;5;66;03m# we need to just return without initializing in that case.\u001b[39;00m\n\u001b[1;32m    296\u001b[0m \u001b[38;5;66;03m# However, we must not let any *other* threads in!\u001b[39;00m\n\u001b[1;32m    297\u001b[0m _tls\u001b[38;5;241m.\u001b[39mis_initializing \u001b[38;5;241m=\u001b[39m \u001b[38;5;28;01mTrue\u001b[39;00m\n",
      "\u001b[0;31mRuntimeError\u001b[0m: Found no NVIDIA driver on your system. Please check that you have an NVIDIA GPU and installed a driver from http://www.nvidia.com/Download/index.aspx"
     ]
    }
   ],
   "source": [
    "politeness = politeness(data['human_turn_3'], data['llm_turn_3'])\n"
   ]
  },
  {
   "cell_type": "code",
   "execution_count": null,
   "id": "235ebf3c",
   "metadata": {},
   "outputs": [],
   "source": []
  },
  {
   "cell_type": "code",
   "execution_count": null,
   "id": "49d26921",
   "metadata": {},
   "outputs": [],
   "source": [
    "data.insert(len(data.columns), \"metric_politeness\", politeness)"
   ]
  },
  {
   "cell_type": "code",
   "execution_count": null,
   "id": "08643aba",
   "metadata": {},
   "outputs": [],
   "source": [
    "(data['human_turn_3'], data['llm_turn_3'])"
   ]
  }
 ],
 "metadata": {
  "kernelspec": {
   "display_name": "Python 3 (ipykernel)",
   "language": "python",
   "name": "python3"
  },
  "language_info": {
   "codemirror_mode": {
    "name": "ipython",
    "version": 3
   },
   "file_extension": ".py",
   "mimetype": "text/x-python",
   "name": "python",
   "nbconvert_exporter": "python",
   "pygments_lexer": "ipython3",
   "version": "3.11.5"
  }
 },
 "nbformat": 4,
 "nbformat_minor": 5
}
